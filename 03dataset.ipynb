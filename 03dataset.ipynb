{
 "cells": [
  {
   "cell_type": "markdown",
   "id": "4e5d9d9d-1ddb-4c40-b645-eb7014297dd2",
   "metadata": {},
   "source": [
    "## 서울 요식업 데이터 EDA"
   ]
  },
  {
   "cell_type": "code",
   "execution_count": 4,
   "id": "01f55cc1-f866-4ff6-8686-c180d2116fff",
   "metadata": {},
   "outputs": [
    {
     "name": "stdout",
     "output_type": "stream",
     "text": [
      "root\n",
      " |-- 개방자치단체코드: integer (nullable = true)\n",
      " |-- 관리번호: string (nullable = true)\n",
      " |-- 인허가일자: integer (nullable = true)\n",
      " |-- 인허가취소일자: string (nullable = true)\n",
      " |-- 영업상태코드: integer (nullable = true)\n",
      " |-- 영업상태명: string (nullable = true)\n",
      " |-- 상세영업상태코드: integer (nullable = true)\n",
      " |-- 상세영업상태명: string (nullable = true)\n",
      " |-- 폐업일자: integer (nullable = true)\n",
      " |-- 휴업시작일자: string (nullable = true)\n",
      " |-- 휴업종료일자: string (nullable = true)\n",
      " |-- 재개업일자: string (nullable = true)\n",
      " |-- 전화번호: string (nullable = true)\n",
      " |-- 소재지면적: double (nullable = true)\n",
      " |-- 소재지우편번호: string (nullable = true)\n",
      " |-- 지번주소: string (nullable = true)\n",
      " |-- 도로명주소: string (nullable = true)\n",
      " |-- 도로명우편번호: string (nullable = true)\n",
      " |-- 사업장명: string (nullable = true)\n",
      " |-- 최종수정일자: string (nullable = true)\n",
      " |-- 데이터갱신구분: string (nullable = true)\n",
      " |-- 데이터갱신일자: string (nullable = true)\n",
      " |-- 업태구분명: string (nullable = true)\n",
      " |-- 좌표정보(X): double (nullable = true)\n",
      " |-- 좌표정보(Y): string (nullable = true)\n",
      " |-- 위생업태명: string (nullable = true)\n",
      " |-- 남성종사자수: integer (nullable = true)\n",
      " |-- 여성종사자수: string (nullable = true)\n",
      " |-- 영업장주변구분명: string (nullable = true)\n",
      " |-- 등급구분명: string (nullable = true)\n",
      " |-- 급수시설구분명: string (nullable = true)\n",
      " |-- 총인원: string (nullable = true)\n",
      " |-- 본사종업원수: integer (nullable = true)\n",
      " |-- 공장사무직종업원수: integer (nullable = true)\n",
      " |-- 공장판매직종업원수: integer (nullable = true)\n",
      " |-- 공장생산직종업원수: integer (nullable = true)\n",
      " |-- 건물소유구분명: string (nullable = true)\n",
      " |-- 보증액: integer (nullable = true)\n",
      " |-- 월세액: string (nullable = true)\n",
      " |-- 다중이용업소여부: string (nullable = true)\n",
      " |-- 시설총규모: double (nullable = true)\n",
      " |-- 전통업소지정번호: string (nullable = true)\n",
      " |-- 전통업소주된음식: string (nullable = true)\n",
      " |-- 홈페이지: string (nullable = true)\n",
      "\n"
     ]
    }
   ],
   "source": [
    "seoul = spark.read.csv('data/seoulfood-full.csv', header=True, inferSchema=True, encoding='euc-kr')\n",
    "seoul.printSchema()"
   ]
  },
  {
   "cell_type": "code",
   "execution_count": 6,
   "id": "55c8394f-9274-4938-94a6-bc63ec336b3d",
   "metadata": {
    "collapsed": true,
    "jupyter": {
     "outputs_hidden": true
    }
   },
   "outputs": [
    {
     "data": {
      "text/plain": [
       "['개방자치단체코드',\n",
       " '관리번호',\n",
       " '인허가일자',\n",
       " '인허가취소일자',\n",
       " '영업상태코드',\n",
       " '영업상태명',\n",
       " '상세영업상태코드',\n",
       " '상세영업상태명',\n",
       " '폐업일자',\n",
       " '휴업시작일자',\n",
       " '휴업종료일자',\n",
       " '재개업일자',\n",
       " '전화번호',\n",
       " '소재지면적',\n",
       " '소재지우편번호',\n",
       " '지번주소',\n",
       " '도로명주소',\n",
       " '도로명우편번호',\n",
       " '사업장명',\n",
       " '최종수정일자',\n",
       " '데이터갱신구분',\n",
       " '데이터갱신일자',\n",
       " '업태구분명',\n",
       " '좌표정보(X)',\n",
       " '좌표정보(Y)',\n",
       " '위생업태명',\n",
       " '남성종사자수',\n",
       " '여성종사자수',\n",
       " '영업장주변구분명',\n",
       " '등급구분명',\n",
       " '급수시설구분명',\n",
       " '총인원',\n",
       " '본사종업원수',\n",
       " '공장사무직종업원수',\n",
       " '공장판매직종업원수',\n",
       " '공장생산직종업원수',\n",
       " '건물소유구분명',\n",
       " '보증액',\n",
       " '월세액',\n",
       " '다중이용업소여부',\n",
       " '시설총규모',\n",
       " '전통업소지정번호',\n",
       " '전통업소주된음식',\n",
       " '홈페이지']"
      ]
     },
     "execution_count": 6,
     "metadata": {},
     "output_type": "execute_result"
    }
   ],
   "source": [
    "seoul.columns"
   ]
  },
  {
   "cell_type": "code",
   "execution_count": 24,
   "id": "cd832abc-09c9-4759-8f26-a491c0ae448e",
   "metadata": {},
   "outputs": [
    {
     "data": {
      "text/plain": [
       "['인허가일자', '영업상태명', '도로명주소', '사업장명', '업태구분명', '좌표정보(X)', '좌표정보(Y)']"
      ]
     },
     "execution_count": 24,
     "metadata": {},
     "output_type": "execute_result"
    }
   ],
   "source": [
    "# 쓸 컬럼명들만 색출해냄\n",
    "sf = seoul.select('인허가일자','영업상태명','도로명주소','사업장명','업태구분명','좌표정보(X)','좌표정보(Y)')\n",
    "sf.columns"
   ]
  },
  {
   "cell_type": "code",
   "execution_count": 25,
   "id": "11b7ed08-bd39-47b9-972b-788888bc922f",
   "metadata": {},
   "outputs": [
    {
     "name": "stdout",
     "output_type": "stream",
     "text": [
      "+----------+----------+---------------------------------+---------------------+------------+----------------+----------------+\n",
      "|인허가일자|영업상태명|                       도로명주소|             사업장명|  업태구분명|     좌표정보(X)|     좌표정보(Y)|\n",
      "+----------+----------+---------------------------------+---------------------+------------+----------------+----------------+\n",
      "|  20201229| 영업/정상|  서울특별시 중구 청계천로 400...|  통불 이마트청계천점|일반조리판매|201823.908977364|452076.818664092|\n",
      "|  20200713| 영업/정상|  서울특별시 성북구 길음로 103...|  씨유 길음푸르지오점|      편의점|201517.385329678|456504.561867278|\n",
      "|  20200713| 영업/정상|서울특별시 송파구 위례성대로 6...|스타벅스 몽촌토성역점|      커피숍|209929.574783236|446085.121305444|\n",
      "|  20200713| 영업/정상|서울특별시 동대문구 전농로16길...|         Min's coffee|      커피숍|205263.826418987|452869.992526477|\n",
      "|  20200713| 영업/정상| 서울특별시 강북구 삼양로87길 ...|             탑브릭스|일반조리판매|201292.010942271|459312.320007983|\n",
      "+----------+----------+---------------------------------+---------------------+------------+----------------+----------------+\n",
      "only showing top 5 rows\n",
      "\n"
     ]
    }
   ],
   "source": [
    "sf.show(5)"
   ]
  },
  {
   "cell_type": "code",
   "execution_count": 32,
   "id": "892246d2-31c4-485a-9bab-bfad87e2a6cc",
   "metadata": {},
   "outputs": [],
   "source": [
    "import pyspark.sql.functions as F"
   ]
  },
  {
   "cell_type": "code",
   "execution_count": 36,
   "id": "6807e7c8-60a4-4252-85e6-2a5980281fa2",
   "metadata": {
    "collapsed": true,
    "jupyter": {
     "outputs_hidden": true
    }
   },
   "outputs": [
    {
     "name": "stdout",
     "output_type": "stream",
     "text": [
      "+---------------+-----+\n",
      "|     업태구분명|count|\n",
      "+---------------+-----+\n",
      "|         커피숍|28646|\n",
      "|   일반조리판매|19076|\n",
      "|           다방|17717|\n",
      "|기타 휴게음식점|15778|\n",
      "|         편의점| 9761|\n",
      "|         과자점| 8678|\n",
      "|     패스트푸드| 7853|\n",
      "|         백화점| 2791|\n",
      "|       푸드트럭|  974|\n",
      "|     아이스크림|  464|\n",
      "|     철도역구내|  451|\n",
      "|       전통찻집|  351|\n",
      "|         떡카페|  147|\n",
      "|       키즈카페|  137|\n",
      "|       관광호텔|   80|\n",
      "|         유원지|   60|\n",
      "|           극장|   22|\n",
      "|           공항|   18|\n",
      "|       고속도로|    9|\n",
      "|           기타|    2|\n",
      "|           한식|    2|\n",
      "|         룸살롱|    1|\n",
      "|         ?蓉?점|    1|\n",
      "|   김밥(도시락)|    1|\n",
      "|      호프/통닭|    1|\n",
      "|   ?球北떳?판매|    1|\n",
      "|       단란주점|    1|\n",
      "+---------------+-----+\n",
      "\n"
     ]
    }
   ],
   "source": [
    "### 음식점 종류 요약\n",
    "sf.select('업태구분명').where(F.length(sf.업태구분명) <= 15)\\\n",
    "    .groupBy('업태구분명').count()\\\n",
    "    .orderBy('count', ascending=False).show(30)"
   ]
  },
  {
   "cell_type": "code",
   "execution_count": 37,
   "id": "cfbf77d6-22d3-42f4-bfc1-92fbd52f7665",
   "metadata": {
    "collapsed": true,
    "jupyter": {
     "outputs_hidden": true
    }
   },
   "outputs": [
    {
     "name": "stdout",
     "output_type": "stream",
     "text": [
      "+----------+-----+\n",
      "|영업상태명|count|\n",
      "+----------+-----+\n",
      "| 영업/정상|37347|\n",
      "|      폐업|75687|\n",
      "+----------+-----+\n",
      "\n"
     ]
    }
   ],
   "source": [
    "### 영업상태 요약\n",
    "sf.select('영업상태명').groupBy('영업상태명').count().show()"
   ]
  },
  {
   "cell_type": "code",
   "execution_count": 39,
   "id": "008d58be-bc9d-42a6-b015-750cd65bba13",
   "metadata": {
    "collapsed": true,
    "jupyter": {
     "outputs_hidden": true
    },
    "scrolled": true
   },
   "outputs": [
    {
     "name": "stdout",
     "output_type": "stream",
     "text": [
      "+-----------------------+-----+\n",
      "|               사업장명|count|\n",
      "+-----------------------+-----+\n",
      "|                 마이빈|   59|\n",
      "|                 이디야|   58|\n",
      "|             요거프레소|   55|\n",
      "|               커피마마|   47|\n",
      "|             이디야커피|   47|\n",
      "|               커피나무|   39|\n",
      "|               카페베네|   39|\n",
      "|               카페제이|   34|\n",
      "|                 카페큐|   33|\n",
      "|               커피크루|   31|\n",
      "|               토프레소|   29|\n",
      "|               탐앤탐스|   28|\n",
      "|             할리스커피|   27|\n",
      "|           투썸플레이스|   26|\n",
      "|               커피베이|   24|\n",
      "|                카페 큐|   24|\n",
      "|(주)커피빈코리아 행사점|   23|\n",
      "|                 커피집|   23|\n",
      "|                   쥬씨|   22|\n",
      "|                 더카페|   21|\n",
      "+-----------------------+-----+\n",
      "only showing top 20 rows\n",
      "\n"
     ]
    }
   ],
   "source": [
    "### 커피숍 종류는 몇 개나? - 1)\n",
    "sf.select('업태구분명', '사업장명').where(sf.업태구분명 == '커피숍')\\\n",
    "    .groupBy('사업장명').count().orderBy('count', ascending=False).show()"
   ]
  },
  {
   "cell_type": "code",
   "execution_count": 42,
   "id": "7ec22b48-7b86-47d5-8b1c-320683ad7f5f",
   "metadata": {
    "collapsed": true,
    "jupyter": {
     "outputs_hidden": true
    },
    "scrolled": true
   },
   "outputs": [
    {
     "name": "stdout",
     "output_type": "stream",
     "text": [
      "+--------+-----+\n",
      "|사업장명|count|\n",
      "+--------+-----+\n",
      "|스타벅스|  556|\n",
      "|투썸플레|  283|\n",
      "|이디야커|  238|\n",
      "|  (주)커|  226|\n",
      "|커피베이|  220|\n",
      "| 이디야 |  203|\n",
      "|메가엠지|  177|\n",
      "|요거프레|  167|\n",
      "|엔제리너|  164|\n",
      "|탐앤탐스|  160|\n",
      "|할리스커|  135|\n",
      "|카페베네|  133|\n",
      "|컴포즈커|  109|\n",
      "|파스쿠찌|  102|\n",
      "|커피나무|   99|\n",
      "|    cafe|   95|\n",
      "|    Cafe|   95|\n",
      "|토프레소|   91|\n",
      "| 빽다방 |   91|\n",
      "|커피마마|   73|\n",
      "+--------+-----+\n",
      "only showing top 20 rows\n",
      "\n"
     ]
    }
   ],
   "source": [
    "### 커피숍 종류는 몇 개나? - 2)\n",
    "sf.select('업태구분명', '사업장명').where(sf.업태구분명 == '커피숍')\\\n",
    "    .groupBy(F.substring(sf.사업장명,0,4).alias('사업장명')).count()\\\n",
    "    .orderBy('count', ascending=False).show()"
   ]
  },
  {
   "cell_type": "code",
   "execution_count": 45,
   "id": "297c43fc-3ff0-4e46-bb2c-7a8881e207b7",
   "metadata": {
    "scrolled": true
   },
   "outputs": [
    {
     "name": "stdout",
     "output_type": "stream",
     "text": [
      "+----------------+-----+\n",
      "|        사업장명|count|\n",
      "+----------------+-----+\n",
      "|            카페|  716|\n",
      "|        스타벅스|  325|\n",
      "|          이디야|  261|\n",
      "|    투썸플레이스|  224|\n",
      "|(주)커피빈코리아|  169|\n",
      "|        커피베이|  157|\n",
      "|  메가엠지씨커피|  154|\n",
      "|      이디야커피|  144|\n",
      "|      요거프레소|  131|\n",
      "|        탐앤탐스|  117|\n",
      "|            공차|  116|\n",
      "|      할리스커피|  101|\n",
      "|            커피|   99|\n",
      "|          빽다방|   97|\n",
      "|      엔제리너스|   94|\n",
      "|      컴포즈커피|   89|\n",
      "|        카페베네|   88|\n",
      "|            Cafe|   84|\n",
      "|            쥬씨|   82|\n",
      "|    스타벅스커피|   78|\n",
      "|            cafe|   71|\n",
      "|        토프레소|   71|\n",
      "|              더|   71|\n",
      "|        파스쿠찌|   70|\n",
      "|          할리스|   67|\n",
      "|        커피나무|   65|\n",
      "|        커피마마|   61|\n",
      "|        주식회사|   60|\n",
      "|          마이빈|   59|\n",
      "|          매머드|   49|\n",
      "|          커피에|   48|\n",
      "|      셀렉토커피|   48|\n",
      "|          더벤티|   45|\n",
      "|    커피에반하다|   43|\n",
      "|매머드익스프레스|   42|\n",
      "|            까페|   40|\n",
      "|          더카페|   37|\n",
      "|      세븐일레븐|   36|\n",
      "|        만랩커피|   35|\n",
      "|          커피니|   35|\n",
      "|  엔제리너스커피|   35|\n",
      "|            CAFE|   35|\n",
      "|        카페제이|   34|\n",
      "|          카페큐|   33|\n",
      "|      (주)보나비|   32|\n",
      "+----------------+-----+\n",
      "only showing top 45 rows\n",
      "\n"
     ]
    }
   ],
   "source": [
    "### 커피숍 종류는 몇 개나?- 3)\n",
    "sf.select('업태구분명', '사업장명').where(sf.업태구분명 == '커피숍')\\\n",
    "    .groupBy(F.split(sf.사업장명, ' ')[0].alias('사업장명')).count()\\\n",
    "    .orderBy('count', ascending=False).show(45)"
   ]
  },
  {
   "cell_type": "code",
   "execution_count": 55,
   "id": "b5d89a85-7c58-450b-959e-80aeba9b01f3",
   "metadata": {},
   "outputs": [
    {
     "name": "stdout",
     "output_type": "stream",
     "text": [
      "+--------+-----+\n",
      "|    구별|count|\n",
      "+--------+-----+\n",
      "|  강남구|  100|\n",
      "|    중구|   64|\n",
      "|    null|   59|\n",
      "|  서초구|   55|\n",
      "|영등포구|   44|\n",
      "|  종로구|   44|\n",
      "|  마포구|   36|\n",
      "|  송파구|   34|\n",
      "|서대문구|   24|\n",
      "|  용산구|   24|\n",
      "+--------+-----+\n",
      "only showing top 10 rows\n",
      "\n"
     ]
    }
   ],
   "source": [
    "### 구별 스타벅스는 몇 개나? \n",
    "sf.select('업태구분명', '도로명주소', '사업장명')\\\n",
    "    .where(sf.사업장명.like('%스타벅스%'))\\\n",
    "    .groupBy(F.split(sf.도로명주소, ' ')[1].alias('구별'))\\\n",
    "    .count().orderBy('count', ascending=False).show(10)"
   ]
  },
  {
   "cell_type": "code",
   "execution_count": 54,
   "id": "5d393a0b-709f-41bb-9e21-343b1a34692c",
   "metadata": {},
   "outputs": [
    {
     "name": "stdout",
     "output_type": "stream",
     "text": [
      "+--------+-----+\n",
      "|    구별|count|\n",
      "+--------+-----+\n",
      "|  강남구|  100|\n",
      "|    중구|   64|\n",
      "|  서초구|   55|\n",
      "|영등포구|   44|\n",
      "|  종로구|   44|\n",
      "|  마포구|   36|\n",
      "|  송파구|   34|\n",
      "|  용산구|   24|\n",
      "|서대문구|   24|\n",
      "|  강서구|   21|\n",
      "+--------+-----+\n",
      "only showing top 10 rows\n",
      "\n"
     ]
    }
   ],
   "source": [
    "### 구별 스타벅스는 몇 개나? \n",
    "sf.select('업태구분명', '도로명주소', '사업장명')\\\n",
    "    .where(sf.사업장명.like('%스타벅스%'))\\\n",
    "    .where(sf.도로명주소 != '')\\\n",
    "    .groupBy(F.split(sf.도로명주소, ' ')[1].alias('구별'))\\\n",
    "    .count().orderBy('count', ascending=False).show(10)"
   ]
  },
  {
   "cell_type": "code",
   "execution_count": null,
   "id": "cfebda43-e60b-4798-93e0-d2bc969d93fb",
   "metadata": {},
   "outputs": [],
   "source": []
  }
 ],
 "metadata": {
  "kernelspec": {
   "display_name": "Python 3 (ipykernel)",
   "language": "python",
   "name": "python3"
  },
  "language_info": {
   "codemirror_mode": {
    "name": "ipython",
    "version": 3
   },
   "file_extension": ".py",
   "mimetype": "text/x-python",
   "name": "python",
   "nbconvert_exporter": "python",
   "pygments_lexer": "ipython3",
   "version": "3.10.12"
  }
 },
 "nbformat": 4,
 "nbformat_minor": 5
}
