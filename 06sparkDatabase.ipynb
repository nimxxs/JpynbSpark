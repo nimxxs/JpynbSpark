{
 "cells": [
  {
   "cell_type": "markdown",
   "id": "a3038bc4-76b7-433f-926c-c822b6342830",
   "metadata": {},
   "source": [
    "## SparkJDBC\n",
    "+ MariaDB나 Oracle에 저장된 테이블을 불러와서\n",
    "분석을 하려면 pyspark 실행시 JDBC드라이버를 지정해야 함\n",
    "+ pyspark --driver-class-path '사용할 jdbc드라이버'"
   ]
  },
  {
   "cell_type": "code",
   "execution_count": 1,
   "id": "e43c4c5b-b620-4948-bc5e-a19372504eac",
   "metadata": {},
   "outputs": [],
   "source": [
    "# mariadb 접속 정보\n",
    "url = 'jdbc:mysql://bigdata.cto1qluvf6xh.ap-northeast-2.rds.amazonaws.com:3306/bigdata'\n",
    "uid = 'admin'\n",
    "pwd = 'Bigdata_2023'"
   ]
  },
  {
   "cell_type": "code",
   "execution_count": 2,
   "id": "bd9a4d49-1240-4c5e-ba51-cf32e0c036c9",
   "metadata": {},
   "outputs": [],
   "source": [
    "spark = SparkSession.builder.master('app').appName('sparkJDBC').getOrCreate()"
   ]
  },
  {
   "cell_type": "code",
   "execution_count": 3,
   "id": "bce77bb5-c4aa-4a37-ac42-5a35fc7cafe2",
   "metadata": {},
   "outputs": [],
   "source": [
    "# read.format('jdbc').options(접속정보)\n",
    "emp = spark.read.format('jdbc')\\\n",
    "    .options(url=url, user=uid, password=pwd, dbtable='EMPLOYEES')\\\n",
    "    .load()"
   ]
  },
  {
   "cell_type": "code",
   "execution_count": 4,
   "id": "2f4e130e-2670-4715-9805-c4b53eb60a95",
   "metadata": {},
   "outputs": [
    {
     "name": "stdout",
     "output_type": "stream",
     "text": [
      "root\n",
      " |-- EMPLOYEE_ID: integer (nullable = true)\n",
      " |-- FIRST_NAME: string (nullable = true)\n",
      " |-- LAST_NAME: string (nullable = true)\n",
      " |-- EMAIL: string (nullable = true)\n",
      " |-- PHONE_NUMBER: string (nullable = true)\n",
      " |-- HIRE_DATE: string (nullable = true)\n",
      " |-- JOB_ID: string (nullable = true)\n",
      " |-- SALARY: double (nullable = true)\n",
      " |-- COMMISSION_PCT: double (nullable = true)\n",
      " |-- MANAGER_ID: integer (nullable = true)\n",
      " |-- DEPARTMENT_ID: integer (nullable = true)\n",
      "\n"
     ]
    }
   ],
   "source": [
    "emp.printSchema()"
   ]
  },
  {
   "cell_type": "code",
   "execution_count": 10,
   "id": "c5ef108b-12ae-4bd3-84ec-e62a22edaced",
   "metadata": {},
   "outputs": [
    {
     "name": "stdout",
     "output_type": "stream",
     "text": [
      "+----------+\n",
      "|FIRST_NAME|\n",
      "+----------+\n",
      "|    Steven|\n",
      "|     Neena|\n",
      "|       Lex|\n",
      "| Alexander|\n",
      "|     Bruce|\n",
      "+----------+\n",
      "only showing top 5 rows\n",
      "\n"
     ]
    }
   ],
   "source": [
    "emp.select('FIRST_NAME').show(5)"
   ]
  },
  {
   "cell_type": "markdown",
   "id": "d14efe56-c414-4127-ac6d-bbafdc2b6fb0",
   "metadata": {},
   "source": [
    "### spark jar 디렉토리를 이용해서 database 접속하기\n",
    "+ /usr/share/spark/jars 에 mariadb-java-client-2.7.2.jar, mysql-connector-java-5.1.49-bin.jar, ojdbc8.jar 복사해 줌\n",
    "   - 실행중인 pyspark 중지시킴\n",
    "   - cp   /home/hadoop/jdbc/*.jar   /usr/share/spark/jars/  (관리자 계정)\n",
    "   - chown   hadoop:hadoop  -R  /usr/share/spark\n",
    "   - pyspark 다시 실행"
   ]
  }
 ],
 "metadata": {
  "kernelspec": {
   "display_name": "Python 3 (ipykernel)",
   "language": "python",
   "name": "python3"
  },
  "language_info": {
   "codemirror_mode": {
    "name": "ipython",
    "version": 3
   },
   "file_extension": ".py",
   "mimetype": "text/x-python",
   "name": "python",
   "nbconvert_exporter": "python",
   "pygments_lexer": "ipython3",
   "version": "3.10.12"
  }
 },
 "nbformat": 4,
 "nbformat_minor": 5
}
