{
 "cells": [
  {
   "cell_type": "markdown",
   "id": "db061548-348e-45a7-b7e4-6df9c74b31b9",
   "metadata": {},
   "source": [
    "### iris를 이용한 붓꽃 예측\n",
    "+ 붓꽃의 품종은 범주형이므로, 분석방법은 분류분석 이용"
   ]
  },
  {
   "cell_type": "code",
   "execution_count": 1,
   "id": "f58c3a08-cb6f-45ce-8fb1-62c259a8ab4e",
   "metadata": {},
   "outputs": [],
   "source": [
    "import pandas as pd\n",
    "import seaborn as sns"
   ]
  },
  {
   "cell_type": "code",
   "execution_count": 2,
   "id": "5147b9fc-fbe2-49f0-9699-015a96b7a7e1",
   "metadata": {},
   "outputs": [],
   "source": [
    "# FutureWarning, UserWarning 감추기\n",
    "import warnings\n",
    "warnings.simplefilter(action='ignore', category=FutureWarning)\n",
    "warnings.simplefilter(action='ignore', category=UserWarning)"
   ]
  },
  {
   "cell_type": "code",
   "execution_count": 3,
   "id": "6fbea751-92a0-4335-834b-f8d444452b38",
   "metadata": {},
   "outputs": [],
   "source": [
    "# 소수점 자리 지정 (float을 출력할 때 소수점 둘째자리까지 출력하겠다 라는 옵션을 걸었음)\n",
    "pd.set_option('display.float_format', lambda x: '%.2f' % x)"
   ]
  },
  {
   "cell_type": "code",
   "execution_count": 11,
   "id": "ecbdd051-d5bf-4020-bc8c-11bf80a38ba3",
   "metadata": {},
   "outputs": [],
   "source": [
    "iris = spark.read.csv('data/iris.csv',header=True, inferSchema=True)\n",
    "iris2 = iris.toPandas()"
   ]
  },
  {
   "cell_type": "code",
   "execution_count": 12,
   "id": "10c25543-cd1d-4dd6-81e0-af9c279d747e",
   "metadata": {},
   "outputs": [
    {
     "data": {
      "text/html": [
       "<div>\n",
       "<style scoped>\n",
       "    .dataframe tbody tr th:only-of-type {\n",
       "        vertical-align: middle;\n",
       "    }\n",
       "\n",
       "    .dataframe tbody tr th {\n",
       "        vertical-align: top;\n",
       "    }\n",
       "\n",
       "    .dataframe thead th {\n",
       "        text-align: right;\n",
       "    }\n",
       "</style>\n",
       "<table border=\"1\" class=\"dataframe\">\n",
       "  <thead>\n",
       "    <tr style=\"text-align: right;\">\n",
       "      <th></th>\n",
       "      <th>sepal_length</th>\n",
       "      <th>sepal_width</th>\n",
       "      <th>petal_length</th>\n",
       "      <th>petal_width</th>\n",
       "      <th>species</th>\n",
       "    </tr>\n",
       "  </thead>\n",
       "  <tbody>\n",
       "    <tr>\n",
       "      <th>0</th>\n",
       "      <td>5.10</td>\n",
       "      <td>3.50</td>\n",
       "      <td>1.40</td>\n",
       "      <td>0.20</td>\n",
       "      <td>setosa</td>\n",
       "    </tr>\n",
       "    <tr>\n",
       "      <th>1</th>\n",
       "      <td>4.90</td>\n",
       "      <td>3.00</td>\n",
       "      <td>1.40</td>\n",
       "      <td>0.20</td>\n",
       "      <td>setosa</td>\n",
       "    </tr>\n",
       "    <tr>\n",
       "      <th>2</th>\n",
       "      <td>4.70</td>\n",
       "      <td>3.20</td>\n",
       "      <td>1.30</td>\n",
       "      <td>0.20</td>\n",
       "      <td>setosa</td>\n",
       "    </tr>\n",
       "    <tr>\n",
       "      <th>3</th>\n",
       "      <td>4.60</td>\n",
       "      <td>3.10</td>\n",
       "      <td>1.50</td>\n",
       "      <td>0.20</td>\n",
       "      <td>setosa</td>\n",
       "    </tr>\n",
       "    <tr>\n",
       "      <th>4</th>\n",
       "      <td>5.00</td>\n",
       "      <td>3.60</td>\n",
       "      <td>1.40</td>\n",
       "      <td>0.20</td>\n",
       "      <td>setosa</td>\n",
       "    </tr>\n",
       "  </tbody>\n",
       "</table>\n",
       "</div>"
      ],
      "text/plain": [
       "   sepal_length  sepal_width  petal_length  petal_width species\n",
       "0          5.10         3.50          1.40         0.20  setosa\n",
       "1          4.90         3.00          1.40         0.20  setosa\n",
       "2          4.70         3.20          1.30         0.20  setosa\n",
       "3          4.60         3.10          1.50         0.20  setosa\n",
       "4          5.00         3.60          1.40         0.20  setosa"
      ]
     },
     "execution_count": 12,
     "metadata": {},
     "output_type": "execute_result"
    }
   ],
   "source": [
    "iris2.head()"
   ]
  },
  {
   "cell_type": "markdown",
   "id": "3a89a7d8-2bc8-428e-8465-392c2dc233e4",
   "metadata": {},
   "source": [
    "#### Species 분포 확인"
   ]
  },
  {
   "cell_type": "code",
   "execution_count": 13,
   "id": "8c358fdc-1297-4dac-aabc-169462310159",
   "metadata": {},
   "outputs": [
    {
     "data": {
      "text/plain": [
       "<Axes: xlabel='species', ylabel='count'>"
      ]
     },
     "execution_count": 13,
     "metadata": {},
     "output_type": "execute_result"
    },
    {
     "data": {
      "image/png": "[encoded data removed]",
      "text/plain": [
       "<Figure size 640x480 with 1 Axes>"
      ]
     },
     "metadata": {},
     "output_type": "display_data"
    }
   ],
   "source": [
    "sns.countplot(x='species', data=iris2)\n",
    "# 딱 좋은 데이터는 이렇게 종속변수의 수가 같아야함\n",
    "# 일정하지 않으면 일정하게 조절을 해야함"
   ]
  },
  {
   "cell_type": "markdown",
   "id": "29faf71a-3745-481a-a163-2d55fcd00599",
   "metadata": {},
   "source": [
    "### 독립변수 vs 종속변수\n",
    "+ 독립변수(특성, fetaure) : 분석가, 연구가가 의도적으로 변화시키는 변수 (입력)\n",
    "+ 종속변수(레이블, label) : 분석가, 연구자가 독립변수들의 변화에 따라 어떻게 변하는지 알고 싶어하는 변수 (결과)"
   ]
  },
  {
   "cell_type": "markdown",
   "id": "0fa5340f-ac67-4cda-b121-96a2a22549ca",
   "metadata": {},
   "source": [
    "### 데이터 전처리\n",
    "+ 인코딩 : 독립변수의 값이 문자형인 경우 숫자형으로 바꿔주는 작업\n",
    "+ 레이블인코딩 : 머신러닝시 로지스틱 회귀 분석시 사용\n",
    "+ 원핫인코딩 : 머신러닝시 데이터의 종류가 이미지인 경우 사용"
   ]
  },
  {
   "cell_type": "code",
   "execution_count": 8,
   "id": "0309305b-d0db-41b6-8bb0-6428169dc446",
   "metadata": {},
   "outputs": [],
   "source": [
    "from pyspark.ml.feature import StringIndexer, VectorAssembler"
   ]
  },
  {
   "cell_type": "code",
   "execution_count": 15,
   "id": "de778077-4456-4370-a953-bb1eb6149d48",
   "metadata": {},
   "outputs": [
    {
     "data": {
      "text/plain": [
       "StringIndexerModel: uid=StringIndexer_243a7e819dd4, handleInvalid=error"
      ]
     },
     "execution_count": 15,
     "metadata": {},
     "output_type": "execute_result"
    }
   ],
   "source": [
    "# 레이블 인코딩 : 문자값을 0,1,2,... 순으로 변환\n",
    "# StringIndexer(대상컬럼, 결과컬럼).fit(객체명)\n",
    "st_idx = StringIndexer(inputCol='species', outputCol='st_idx').fit(iris)\n",
    "st_idx"
   ]
  },
  {
   "cell_type": "code",
   "execution_count": 17,
   "id": "d2a9b951-513f-49db-ac57-b5bc79fb70df",
   "metadata": {},
   "outputs": [],
   "source": [
    "# 레이블인코딩 기준(st_idx)을 이용해서 species 컬럼의 값을 숫자로 변환\n",
    "iris = st_idx.transform(iris)"
   ]
  },
  {
   "cell_type": "code",
   "execution_count": 18,
   "id": "26faeb90-a988-4a8d-a73f-0588789ea4bd",
   "metadata": {},
   "outputs": [
    {
     "name": "stdout",
     "output_type": "stream",
     "text": [
      "+-------+------+\n",
      "|species|st_idx|\n",
      "+-------+------+\n",
      "| setosa|   0.0|\n",
      "| setosa|   0.0|\n",
      "| setosa|   0.0|\n",
      "| setosa|   0.0|\n",
      "| setosa|   0.0|\n",
      "+-------+------+\n",
      "only showing top 5 rows\n",
      "\n"
     ]
    }
   ],
   "source": [
    "# 변환 결과 확인\n",
    "iris.select('species', 'st_idx').show(5)"
   ]
  },
  {
   "cell_type": "markdown",
   "id": "65ded92c-1d43-442f-880d-2ca240ed0a15",
   "metadata": {},
   "source": [
    "#### 분석을 위해 데이터 재구성\n",
    "* feature : sepal_length, sepal_width, petal_length, petal_width\n",
    "* label : species"
   ]
  },
  {
   "cell_type": "code",
   "execution_count": 19,
   "id": "cdd24dce-f5fe-44a4-a9b6-d47f4ceb92fe",
   "metadata": {},
   "outputs": [
    {
     "name": "stdout",
     "output_type": "stream",
     "text": [
      "+------------+-----------+------------+-----------+-------+------+\n",
      "|sepal_length|sepal_width|petal_length|petal_width|species|st_idx|\n",
      "+------------+-----------+------------+-----------+-------+------+\n",
      "|         5.1|        3.5|         1.4|        0.2| setosa|   0.0|\n",
      "|         4.9|        3.0|         1.4|        0.2| setosa|   0.0|\n",
      "|         4.7|        3.2|         1.3|        0.2| setosa|   0.0|\n",
      "|         4.6|        3.1|         1.5|        0.2| setosa|   0.0|\n",
      "|         5.0|        3.6|         1.4|        0.2| setosa|   0.0|\n",
      "+------------+-----------+------------+-----------+-------+------+\n",
      "only showing top 5 rows\n",
      "\n"
     ]
    }
   ],
   "source": [
    "iris.show(5)\n",
    "# 따로 있는 컬럼들을 하나로 합쳐야지 작동이 됨 (vectorAssembler 형태로.. 1차원 배열)"
   ]
  },
  {
   "cell_type": "code",
   "execution_count": 20,
   "id": "b40e73ea-b858-4bf8-9f35-684b8aacb7f2",
   "metadata": {},
   "outputs": [],
   "source": [
    "# 분석을 위해 feature와 label 지정\n",
    "# vectorAssembler(피처대상컬럼, 재조합컬럼명)\n",
    "vdf = VectorAssembler(\n",
    "    inputCols=['sepal_length', 'sepal_width', 'petal_length', 'petal_width'],\n",
    "    outputCol='features')\n",
    "# 합쳤을 때 나오는 이름은 features"
   ]
  },
  {
   "cell_type": "code",
   "execution_count": 21,
   "id": "793a6ed1-edc1-49ca-8d38-8144eeb59cfa",
   "metadata": {},
   "outputs": [],
   "source": [
    "iris = vdf.transform(iris)"
   ]
  },
  {
   "cell_type": "code",
   "execution_count": 22,
   "id": "948b974e-03c8-44f4-85cc-d2413260dfda",
   "metadata": {},
   "outputs": [
    {
     "name": "stdout",
     "output_type": "stream",
     "text": [
      "+------------+-----------+------------+-----------+-------+------+-----------------+\n",
      "|sepal_length|sepal_width|petal_length|petal_width|species|st_idx|         features|\n",
      "+------------+-----------+------------+-----------+-------+------+-----------------+\n",
      "|         5.1|        3.5|         1.4|        0.2| setosa|   0.0|[5.1,3.5,1.4,0.2]|\n",
      "|         4.9|        3.0|         1.4|        0.2| setosa|   0.0|[4.9,3.0,1.4,0.2]|\n",
      "|         4.7|        3.2|         1.3|        0.2| setosa|   0.0|[4.7,3.2,1.3,0.2]|\n",
      "|         4.6|        3.1|         1.5|        0.2| setosa|   0.0|[4.6,3.1,1.5,0.2]|\n",
      "|         5.0|        3.6|         1.4|        0.2| setosa|   0.0|[5.0,3.6,1.4,0.2]|\n",
      "+------------+-----------+------------+-----------+-------+------+-----------------+\n",
      "only showing top 5 rows\n",
      "\n"
     ]
    }
   ],
   "source": [
    "iris.show(5)"
   ]
  },
  {
   "cell_type": "code",
   "execution_count": 23,
   "id": "0c535b51-f301-43fe-94e8-c438501c67e5",
   "metadata": {},
   "outputs": [
    {
     "data": {
      "text/plain": [
       "['sepal_length',\n",
       " 'sepal_width',\n",
       " 'petal_length',\n",
       " 'petal_width',\n",
       " 'species',\n",
       " 'label',\n",
       " 'features']"
      ]
     },
     "execution_count": 23,
     "metadata": {},
     "output_type": "execute_result"
    }
   ],
   "source": [
    "# st_idx 컬럼을 label로 변경\n",
    "iris = iris.withColumnRenamed('st_idx', 'label')\n",
    "iris.columns\n",
    "# label로 이름 바뀐 거 확인 가능"
   ]
  },
  {
   "cell_type": "code",
   "execution_count": 25,
   "id": "b95357bd-8a39-4157-a3ad-0db254620dd6",
   "metadata": {},
   "outputs": [
    {
     "name": "stdout",
     "output_type": "stream",
     "text": [
      "+-----------------+-----+\n",
      "|         features|label|\n",
      "+-----------------+-----+\n",
      "|[5.1,3.5,1.4,0.2]|  0.0|\n",
      "|[4.9,3.0,1.4,0.2]|  0.0|\n",
      "|[4.7,3.2,1.3,0.2]|  0.0|\n",
      "|[4.6,3.1,1.5,0.2]|  0.0|\n",
      "|[5.0,3.6,1.4,0.2]|  0.0|\n",
      "+-----------------+-----+\n",
      "only showing top 5 rows\n",
      "\n"
     ]
    }
   ],
   "source": [
    "# 분석을 위해 features, label만 따로 뽑아 새로운 데이터프레임으로 생성\n",
    "model_df = iris.select('features', 'label')\n",
    "model_df.show(5)"
   ]
  },
  {
   "cell_type": "markdown",
   "id": "05fde0d6-079e-4bf3-9b01-583020c5d042",
   "metadata": {},
   "source": [
    "### 분석 시작"
   ]
  },
  {
   "cell_type": "code",
   "execution_count": 32,
   "id": "23840d33-f1d9-4d0a-b9c9-530ca5f88bf8",
   "metadata": {},
   "outputs": [],
   "source": [
    "# 기존 데이터를 0.75:0.25 비율의 훈련/시험 데이터로 분할함\n",
    "# randomSplit(훈련데이터비율, 시험데이터비율, 시드값) : 난수\n",
    "train, test = model_df.randomSplit([0.75, 0.25], 2309071800)\n",
    "# 아까 sepices 값이 50이었는데 그걸 0.75대 0.25 비율로 나눔\n",
    "# train은 연습문제, test는 모의고사\n",
    "# 시드값을 설정해두면 모든 사람들이 같은 값이 나옴\n",
    "# 난수 = 시드값, 즉, 난수를 설정해두면 윗말대로 같은 값이 나옴"
   ]
  },
  {
   "cell_type": "code",
   "execution_count": 33,
   "id": "dd3ea36c-b601-42a3-b39d-b11b94812f3b",
   "metadata": {},
   "outputs": [
    {
     "data": {
      "text/plain": [
       "(110, 40)"
      ]
     },
     "execution_count": 33,
     "metadata": {},
     "output_type": "execute_result"
    }
   ],
   "source": [
    "train.select().count(), test.select().count(), "
   ]
  },
  {
   "cell_type": "code",
   "execution_count": 34,
   "id": "39b922f4-e7c2-4c1d-87cc-ffecdf09a9fd",
   "metadata": {},
   "outputs": [],
   "source": [
    "# 모델 훈련\n",
    "from pyspark.ml.classification import LogisticRegression"
   ]
  },
  {
   "cell_type": "code",
   "execution_count": 35,
   "id": "05533dee-1516-4bd9-a1a8-946bf9cd977d",
   "metadata": {},
   "outputs": [
    {
     "data": {
      "text/plain": [
       "1.0"
      ]
     },
     "execution_count": 35,
     "metadata": {},
     "output_type": "execute_result"
    }
   ],
   "source": [
    "lg = LogisticRegression().fit(train)\n",
    "lg.summary.accuracy"
   ]
  },
  {
   "cell_type": "code",
   "execution_count": 36,
   "id": "4fe3655c-5f3a-4e81-bf5d-d93b383acca7",
   "metadata": {},
   "outputs": [
    {
     "data": {
      "text/plain": [
       "0.95"
      ]
     },
     "execution_count": 36,
     "metadata": {},
     "output_type": "execute_result"
    }
   ],
   "source": [
    "# 모델 예측\n",
    "pred = lg.evaluate(test)\n",
    "pred.accuracy"
   ]
  },
  {
   "cell_type": "code",
   "execution_count": 39,
   "id": "045efb50-6a8d-4831-b04d-3879742c11d4",
   "metadata": {},
   "outputs": [
    {
     "name": "stdout",
     "output_type": "stream",
     "text": [
      "+--------------------------------------------------+----------+\n",
      "|probability                                       |prediction|\n",
      "+--------------------------------------------------+----------+\n",
      "|[1.0,7.911424017277428E-58,0.0]                   |0.0       |\n",
      "|[1.0,5.8644051503218724E-74,0.0]                  |0.0       |\n",
      "|[1.0,1.1386231833477334E-54,0.0]                  |0.0       |\n",
      "|[1.0,1.2104465825625694E-50,0.0]                  |0.0       |\n",
      "|[3.845324092297634E-47,1.0,4.281616538766771E-129]|1.0       |\n",
      "+--------------------------------------------------+----------+\n",
      "only showing top 5 rows\n",
      "\n"
     ]
    }
   ],
   "source": [
    "# 모델 예측 결과 확인\n",
    "pred = lg.transform(test)\n",
    "pred.select('probability', 'prediction').show(5, truncate=False)\n",
    "# truncate=False : 짤려서 나오는 거 F 처리. 즉, 길게 다 나옴"
   ]
  }
 ],
 "metadata": {
  "kernelspec": {
   "display_name": "Python 3 (ipykernel)",
   "language": "python",
   "name": "python3"
  },
  "language_info": {
   "codemirror_mode": {
    "name": "ipython",
    "version": 3
   },
   "file_extension": ".py",
   "mimetype": "text/x-python",
   "name": "python",
   "nbconvert_exporter": "python",
   "pygments_lexer": "ipython3",
   "version": "3.10.12"
  }
 },
 "nbformat": 4,
 "nbformat_minor": 5
}
