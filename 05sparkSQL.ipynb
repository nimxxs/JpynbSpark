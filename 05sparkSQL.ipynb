{
 "cells": [
  {
   "cell_type": "markdown",
   "id": "029241c4-1c6b-4226-8c8a-3968a06b1ce9",
   "metadata": {},
   "source": [
    "### SparkSQL\n",
    "+ 스파크 데이터프레임에 저장된 데이터들을 SQL 문법을 이용해서\n",
    "탐색할 수 있도록 해 줌\n",
    "+ spark.sql() 함수 사용\n",
    "+ OLTP 보다는 OLAP 처리에 적합"
   ]
  },
  {
   "cell_type": "code",
   "execution_count": 1,
   "id": "dc1140cd-ab79-4703-9c76-ad1635e87c15",
   "metadata": {},
   "outputs": [],
   "source": [
    "# sparkSQL을 위한 스파크세션 생성\n",
    "spark = SparkSession.builder.master('app').appName('sparkSQL').getOrCreate()"
   ]
  },
  {
   "cell_type": "code",
   "execution_count": 2,
   "id": "51ceba6d-5496-4ec5-b8a7-daec0129e2a4",
   "metadata": {},
   "outputs": [],
   "source": [
    "emp = spark.read.csv('data/employees.csv',header=True, inferSchema=True)\n",
    "dept = spark.read.csv('data/departments.csv',header=True, inferSchema=True)"
   ]
  },
  {
   "cell_type": "code",
   "execution_count": 3,
   "id": "f3af77a4-facd-4a56-a7a1-e5bbb6701e03",
   "metadata": {},
   "outputs": [],
   "source": [
    "# SQL 사용을 위해 View 객체 생성\n",
    "# 객체명.createOrReplaceTempView(뷰이름)\n",
    "EMP = emp.createOrReplaceTempView('EMP')\n",
    "DEPT = dept.createOrReplaceTempView('DEPT')"
   ]
  },
  {
   "cell_type": "code",
   "execution_count": 5,
   "id": "8dade393-320a-4ef0-ac01-312b32ef2707",
   "metadata": {
    "collapsed": true,
    "jupyter": {
     "outputs_hidden": true
    }
   },
   "outputs": [
    {
     "name": "stdout",
     "output_type": "stream",
     "text": [
      "+-----------+----------+---------+--------+------------+----------+-------+-------+--------------+----------+-------------+\n",
      "|EMPLOYEE_ID|FIRST_NAME|LAST_NAME|   EMAIL|PHONE_NUMBER| HIRE_DATE| JOB_ID| SALARY|COMMISSION_PCT|MANAGER_ID|DEPARTMENT_ID|\n",
      "+-----------+----------+---------+--------+------------+----------+-------+-------+--------------+----------+-------------+\n",
      "|        100|    Steven|     King|   SKING|515.123.4567|2003-06-17|AD_PRES|24000.0|          null|      null|           90|\n",
      "|        101|     Neena|  Kochhar|NKOCHHAR|515.123.4568|2005-09-21|  AD_VP|17000.0|          null|       100|           90|\n",
      "|        102|       Lex|  De Haan| LDEHAAN|515.123.4569|2001-01-13|  AD_VP|17000.0|          null|       100|           90|\n",
      "|        103| Alexander|   Hunold| AHUNOLD|590.423.4567|2006-01-03|IT_PROG| 9000.0|          null|       102|           60|\n",
      "|        104|     Bruce|    Ernst|  BERNST|590.423.4568|2007-05-21|IT_PROG| 6000.0|          null|       103|           60|\n",
      "+-----------+----------+---------+--------+------------+----------+-------+-------+--------------+----------+-------------+\n",
      "only showing top 5 rows\n",
      "\n"
     ]
    }
   ],
   "source": [
    "sql = 'select * from EMP'\n",
    "spark.sql(sql).show(5)"
   ]
  },
  {
   "cell_type": "code",
   "execution_count": 6,
   "id": "e76db951-5bf3-48cc-9521-cd24a63b4b98",
   "metadata": {
    "collapsed": true,
    "jupyter": {
     "outputs_hidden": true
    }
   },
   "outputs": [
    {
     "name": "stdout",
     "output_type": "stream",
     "text": [
      "+-------------+---------------+----------+-----------+\n",
      "|DEPARTMENT_ID|DEPARTMENT_NAME|MANAGER_ID|LOCATION_ID|\n",
      "+-------------+---------------+----------+-----------+\n",
      "|           10| Administration|       200|       1700|\n",
      "|           20|      Marketing|       201|       1800|\n",
      "|           30|     Purchasing|       114|       1700|\n",
      "|           40|Human Resources|       203|       2400|\n",
      "|           50|       Shipping|       121|       1500|\n",
      "+-------------+---------------+----------+-----------+\n",
      "only showing top 5 rows\n",
      "\n"
     ]
    }
   ],
   "source": [
    "sql = 'select * from DEPT'\n",
    "spark.sql(sql).show(5)"
   ]
  },
  {
   "cell_type": "code",
   "execution_count": 30,
   "id": "b96d794f-9926-4194-a0b5-59f786352f41",
   "metadata": {
    "collapsed": true,
    "jupyter": {
     "outputs_hidden": true
    }
   },
   "outputs": [
    {
     "name": "stdout",
     "output_type": "stream",
     "text": [
      "+-----------+-----------+----------+\n",
      "| FIRST_NAME|  LAST_NAME| HIRE_DATE|\n",
      "+-----------+-----------+----------+\n",
      "|      Valli|  Pataballa|2006-02-05|\n",
      "|       John|        Seo|2006-02-12|\n",
      "|       Jean|     Fleaur|2006-02-23|\n",
      "|Jose Manuel|      Urman|2006-03-07|\n",
      "|    Randall|      Matos|2006-03-15|\n",
      "|   Harrison|      Bloom|2006-03-23|\n",
      "|   Jonathon|     Taylor|2006-03-24|\n",
      "|Christopher|      Olsen|2006-03-30|\n",
      "|     Joshua|      Patel|2006-04-06|\n",
      "|       Jack| Livingston|2006-04-23|\n",
      "|      Alana|      Walsh|2006-04-24|\n",
      "|      Kevin|     Feeney|2006-05-23|\n",
      "|      Julia|  Dellinger|2006-06-24|\n",
      "|     Samuel|     McCain|2006-07-01|\n",
      "|      Peter|     Vargas|2006-07-09|\n",
      "|    Timothy|      Gates|2006-07-11|\n",
      "|    Michael|     Rogers|2006-08-26|\n",
      "|      Irene|Mikkilineni|2006-09-28|\n",
      "|     Sarath|     Sewall|2006-11-03|\n",
      "|        Guy|     Himuro|2006-11-15|\n",
      "+-----------+-----------+----------+\n",
      "\n"
     ]
    }
   ],
   "source": [
    "# 2006-02-05부터 2006-11-15사이에 고용된 사원 조회\n",
    "sql = '''select FIRST_NAME, LAST_NAME, HIRE_DATE from EMP \\\n",
    "    where HIRE_DATE between '2006-02-05' and '2006-11-15'\\\n",
    "    order by HIRE_DATE'''\n",
    "spark.sql(sql).show()"
   ]
  },
  {
   "cell_type": "code",
   "execution_count": 32,
   "id": "6a37a700-6eaa-47f5-8f26-b6c0f1b6fb5e",
   "metadata": {
    "collapsed": true,
    "jupyter": {
     "outputs_hidden": true
    }
   },
   "outputs": [
    {
     "name": "stdout",
     "output_type": "stream",
     "text": [
      "+----------+---+\n",
      "|    JOB_ID|cnt|\n",
      "+----------+---+\n",
      "|    SA_REP| 30|\n",
      "|  SH_CLERK| 20|\n",
      "|  ST_CLERK| 20|\n",
      "|FI_ACCOUNT|  5|\n",
      "|  PU_CLERK|  5|\n",
      "|    ST_MAN|  5|\n",
      "|   IT_PROG|  5|\n",
      "|    SA_MAN|  5|\n",
      "|     AD_VP|  2|\n",
      "|    MK_MAN|  1|\n",
      "|    FI_MGR|  1|\n",
      "|AC_ACCOUNT|  1|\n",
      "|    MK_REP|  1|\n",
      "|    HR_REP|  1|\n",
      "|    AC_MGR|  1|\n",
      "|    PU_MAN|  1|\n",
      "|   AD_PRES|  1|\n",
      "|    PR_REP|  1|\n",
      "|   AD_ASST|  1|\n",
      "+----------+---+\n",
      "\n"
     ]
    }
   ],
   "source": [
    "# 직책별 사원수 조회후 사원수 내림차순 정렬\n",
    "sql = \"select JOB_ID, count(*) cnt from EMP\\\n",
    "    group by JOB_ID order by cnt DESC\"\n",
    "spark.sql(sql).show()"
   ]
  },
  {
   "cell_type": "code",
   "execution_count": 33,
   "id": "fd01ee07-e1a2-48b0-9e5e-d1f28bc3e1f1",
   "metadata": {},
   "outputs": [
    {
     "name": "stdout",
     "output_type": "stream",
     "text": [
      "+---------+------+\n",
      "|LAST_NAME|SALARY|\n",
      "+---------+------+\n",
      "|    Weiss|8000.0|\n",
      "|    Fripp|8200.0|\n",
      "| Kaufling|7900.0|\n",
      "|  Vollman|6500.0|\n",
      "|  Mourgos|5800.0|\n",
      "|      Fay|6000.0|\n",
      "+---------+------+\n",
      "\n"
     ]
    }
   ],
   "source": [
    "# 20번 또는 50번 부서에 근무하며, \n",
    "# 급여가 5000 ~ 12,000 사이인 사원들의 \n",
    "# LAST_NAME 및 급여를 조회하세요\n",
    "sql = \"select LAST_NAME, SALARY from EMP\\\n",
    "    where DEPARTMENT_ID in (20, 50) and\\\n",
    "    SALARY between 5000 and 12000\"\n",
    "spark.sql(sql).show()"
   ]
  },
  {
   "cell_type": "code",
   "execution_count": 34,
   "id": "4d81522b-497e-4403-9c69-9aec03aef972",
   "metadata": {},
   "outputs": [],
   "source": [
    "## 하계 올림픽 국가별 메달수\n",
    "summer = spark.read.csv('data/summermedals.csv', header=True, inferSchema=True)\n",
    "summer = summer.createOrReplaceTempView('summer')"
   ]
  },
  {
   "cell_type": "code",
   "execution_count": 37,
   "id": "a2b960ad-4533-4fe3-a4f3-6e7881b119e3",
   "metadata": {},
   "outputs": [
    {
     "name": "stdout",
     "output_type": "stream",
     "text": [
      "+-------+------+\n",
      "|Country|medals|\n",
      "+-------+------+\n",
      "|    USA|  4585|\n",
      "|    URS|  2049|\n",
      "|    GBR|  1720|\n",
      "|    FRA|  1396|\n",
      "|    GER|  1305|\n",
      "|    ITA|  1296|\n",
      "|    AUS|  1189|\n",
      "|    HUN|  1079|\n",
      "|    SWE|  1044|\n",
      "|    NED|   851|\n",
      "+-------+------+\n",
      "only showing top 10 rows\n",
      "\n"
     ]
    }
   ],
   "source": [
    "# 금은동 다\n",
    "sql = '''\n",
    "    select Country, count(Medal) medals from SUMMER\n",
    "    group by Country order by medals desc\n",
    "'''\n",
    "spark.sql(sql).show(10)"
   ]
  },
  {
   "cell_type": "code",
   "execution_count": 46,
   "id": "2756997d-d67e-42cf-aeeb-c4dc47d0affd",
   "metadata": {},
   "outputs": [
    {
     "name": "stdout",
     "output_type": "stream",
     "text": [
      "+-------+------+------+\n",
      "|Country| Medal|medals|\n",
      "+-------+------+------+\n",
      "|    USA|  Gold|  2235|\n",
      "|    USA|Silver|  1252|\n",
      "|    USA|Bronze|  1098|\n",
      "|    URS|  Gold|   838|\n",
      "|    URS|Silver|   627|\n",
      "|    GBR|Silver|   621|\n",
      "|    URS|Bronze|   584|\n",
      "|    GBR|Bronze|   553|\n",
      "|    GBR|  Gold|   546|\n",
      "|    FRA|Bronze|   497|\n",
      "+-------+------+------+\n",
      "only showing top 10 rows\n",
      "\n"
     ]
    }
   ],
   "source": [
    "# 금은동 나눠서\n",
    "sql = '''\n",
    "    select Country, Medal, count(Medal) medals from SUMMER\n",
    "    group by Country, Medal order by medals desc\n",
    "'''\n",
    "spark.sql(sql).show(10)"
   ]
  },
  {
   "cell_type": "code",
   "execution_count": 38,
   "id": "8c8c17cb-7f41-44cf-b210-2839da380627",
   "metadata": {},
   "outputs": [],
   "source": [
    "## 타이타닉 승선객들중 승선위치별 성별 생존자 조회\n",
    "titanic = spark.read.csv('data/titanic.csv', header=True, inferSchema=True)\n",
    "TITANIC = titanic.createOrReplaceTempView('TITANIC')"
   ]
  },
  {
   "cell_type": "code",
   "execution_count": 43,
   "id": "45586c56-a170-4e0d-a6b9-3b3d8e0e61bb",
   "metadata": {},
   "outputs": [
    {
     "name": "stdout",
     "output_type": "stream",
     "text": [
      "+--------+------+--------+---+\n",
      "|embarked|   sex|survived|cnt|\n",
      "+--------+------+--------+---+\n",
      "|       C|female|       1|102|\n",
      "|       C|female|       0| 11|\n",
      "|       C|  male|       1| 48|\n",
      "|       C|  male|       0|109|\n",
      "|       Q|  male|       1|  7|\n",
      "|       Q|female|       0| 23|\n",
      "|       Q|  male|       0| 56|\n",
      "|       Q|female|       1| 37|\n",
      "|       S|female|       0| 93|\n",
      "|       S|  male|       1|106|\n",
      "|       S|  male|       0|517|\n",
      "|       S|female|       1|198|\n",
      "+--------+------+--------+---+\n",
      "\n"
     ]
    }
   ],
   "source": [
    "sql = '''\n",
    "    select embarked, sex, survived, count(survived) cnt from TITANIC\n",
    "    where embarked is not null\n",
    "    group by embarked, sex, survived order by embarked\n",
    "'''\n",
    "spark.sql(sql).show(15)"
   ]
  },
  {
   "cell_type": "code",
   "execution_count": 45,
   "id": "a67ed2f6-4530-431c-87bf-1ac1d5573917",
   "metadata": {},
   "outputs": [
    {
     "name": "stdout",
     "output_type": "stream",
     "text": [
      "+--------+------+--------+---+\n",
      "|embarked|   sex|survived|cnt|\n",
      "+--------+------+--------+---+\n",
      "|       C|female|       1|102|\n",
      "|       C|  male|       1| 48|\n",
      "|       Q|female|       1| 37|\n",
      "|       Q|  male|       1|  7|\n",
      "|       S|  male|       1|106|\n",
      "|       S|female|       1|198|\n",
      "+--------+------+--------+---+\n",
      "\n"
     ]
    }
   ],
   "source": [
    "# 생존자만 추린거 (survived == 1)\n",
    "sql = '''\n",
    "    select embarked, sex, survived, count(survived) cnt from TITANIC\n",
    "    where embarked is not null and survived == 1\n",
    "    group by embarked, sex, survived order by embarked\n",
    "'''\n",
    "spark.sql(sql).show(15)"
   ]
  },
  {
   "cell_type": "code",
   "execution_count": null,
   "id": "5b49b4b5-7a29-47e9-9857-6c9eba9ccb86",
   "metadata": {},
   "outputs": [],
   "source": [
    "## 음식점 종류 예약"
   ]
  },
  {
   "cell_type": "code",
   "execution_count": null,
   "id": "16995ba8-dbd4-49f5-9ba5-5f58d89d949c",
   "metadata": {},
   "outputs": [],
   "source": [
    "## 커피숍 종류는 몇 개인가?"
   ]
  },
  {
   "cell_type": "code",
   "execution_count": null,
   "id": "65b60207-3228-4279-81ad-6871d4e14ba0",
   "metadata": {},
   "outputs": [],
   "source": [
    "## 구별 스타벅스는 몇 개인가?"
   ]
  }
 ],
 "metadata": {
  "kernelspec": {
   "display_name": "Python 3 (ipykernel)",
   "language": "python",
   "name": "python3"
  },
  "language_info": {
   "codemirror_mode": {
    "name": "ipython",
    "version": 3
   },
   "file_extension": ".py",
   "mimetype": "text/x-python",
   "name": "python",
   "nbconvert_exporter": "python",
   "pygments_lexer": "ipython3",
   "version": "3.10.12"
  }
 },
 "nbformat": 4,
 "nbformat_minor": 5
}
