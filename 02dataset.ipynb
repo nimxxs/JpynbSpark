{
 "cells": [
  {
   "cell_type": "markdown",
   "id": "fa370a60-fcda-4cd3-a7d7-13e6f5fc47fc",
   "metadata": {},
   "source": [
    "## 데이터프레임 생성"
   ]
  },
  {
   "cell_type": "code",
   "execution_count": 1,
   "id": "b5692477-2c62-4cec-8686-3c55a0d2b60a",
   "metadata": {},
   "outputs": [],
   "source": [
    "from pyspark.sql.types import StringType, IntegerType"
   ]
  },
  {
   "cell_type": "markdown",
   "id": "7bda1ce2-2e09-4a52-90db-469cd727dcdf",
   "metadata": {},
   "source": [
    "### 리스트를 이용해서 데이터프레임 만들기\n",
    "* createDataFrame(RDD객체, 타입)"
   ]
  },
  {
   "cell_type": "code",
   "execution_count": 2,
   "id": "764f07a7-a46e-4ffc-9a12-7e70f53dd1bd",
   "metadata": {},
   "outputs": [
    {
     "data": {
      "text/plain": [
       "['apple', 'peach', 'banana', 'mango', 'mincho']"
      ]
     },
     "execution_count": 2,
     "metadata": {},
     "output_type": "execute_result"
    }
   ],
   "source": [
    "fruits = ['apple','peach','banana','mango','mincho']\n",
    "words = sc.parallelize(fruits)\n",
    "words.collect()   # RDD"
   ]
  },
  {
   "cell_type": "code",
   "execution_count": 3,
   "id": "9abd32cd-adb1-412c-8bdc-a70a4388149b",
   "metadata": {},
   "outputs": [
    {
     "name": "stdout",
     "output_type": "stream",
     "text": [
      "+------+\n",
      "| value|\n",
      "+------+\n",
      "| apple|\n",
      "| peach|\n",
      "|banana|\n",
      "| mango|\n",
      "|mincho|\n",
      "+------+\n",
      "\n"
     ]
    }
   ],
   "source": [
    "df = spark.createDataFrame(words, StringType())\n",
    "df.show()"
   ]
  },
  {
   "cell_type": "markdown",
   "id": "6236f6f2-9f2d-4214-9f27-0354e80181a7",
   "metadata": {},
   "source": [
    "### 리스트로 데이터프레임 객체 만들기\n",
    "* (과일명, 가격)"
   ]
  },
  {
   "cell_type": "code",
   "execution_count": 4,
   "id": "05119127-604a-4954-a04d-f32b186d8902",
   "metadata": {},
   "outputs": [],
   "source": [
    "data = [('apple', 1500), ('peach', 2000), ('banana', 1500), ('mango', 2500), ('mincho', 3000)]"
   ]
  },
  {
   "cell_type": "code",
   "execution_count": 5,
   "id": "15b4ca8a-61b6-4811-b6cc-df89ee86999a",
   "metadata": {},
   "outputs": [
    {
     "data": {
      "text/plain": [
       "[Row(_1='apple', _2=1500),\n",
       " Row(_1='peach', _2=2000),\n",
       " Row(_1='banana', _2=1500),\n",
       " Row(_1='mango', _2=2500),\n",
       " Row(_1='mincho', _2=3000)]"
      ]
     },
     "execution_count": 5,
     "metadata": {},
     "output_type": "execute_result"
    }
   ],
   "source": [
    "fruits = spark.createDataFrame(data)\n",
    "fruits.collect()"
   ]
  },
  {
   "cell_type": "code",
   "execution_count": 6,
   "id": "9bfdb039-0481-4663-a0fa-1a72cc692de8",
   "metadata": {},
   "outputs": [
    {
     "data": {
      "text/plain": [
       "[Row(fruits='apple', price=1500),\n",
       " Row(fruits='peach', price=2000),\n",
       " Row(fruits='banana', price=1500),\n",
       " Row(fruits='mango', price=2500),\n",
       " Row(fruits='mincho', price=3000)]"
      ]
     },
     "execution_count": 6,
     "metadata": {},
     "output_type": "execute_result"
    }
   ],
   "source": [
    "# 컬럼명 지정하면서 데이터프레임 생성\n",
    "fruits = spark.createDataFrame(data, ['fruits','price'])\n",
    "fruits.collect()"
   ]
  },
  {
   "cell_type": "code",
   "execution_count": 7,
   "id": "f08cdc96-0e82-4401-a325-3732deb079be",
   "metadata": {},
   "outputs": [
    {
     "data": {
      "text/plain": [
       "[Row(fruits='apple', price=1500),\n",
       " Row(fruits='peach', price=2000),\n",
       " Row(fruits='banana', price=1500),\n",
       " Row(fruits='mango', price=2500),\n",
       " Row(fruits='mincho', price=3000)]"
      ]
     },
     "execution_count": 7,
     "metadata": {},
     "output_type": "execute_result"
    }
   ],
   "source": [
    "# 컬럼명, 데이터타입 지정하면서 데이터프레임 생성\n",
    "fruits = spark.createDataFrame(data, \"fruits:string, price:int\")\n",
    "fruits.collect()"
   ]
  },
  {
   "cell_type": "code",
   "execution_count": 8,
   "id": "8ae487bb-2a16-4680-a3bf-f06111141927",
   "metadata": {},
   "outputs": [
    {
     "data": {
      "text/plain": [
       "[Row(fruits='apple'),\n",
       " Row(fruits='peach'),\n",
       " Row(fruits='banana'),\n",
       " Row(fruits='mango'),\n",
       " Row(fruits='mincho')]"
      ]
     },
     "execution_count": 8,
     "metadata": {},
     "output_type": "execute_result"
    }
   ],
   "source": [
    "# 특정 컬럼 출력 : select\n",
    "fruits.select('fruits').collect()"
   ]
  },
  {
   "cell_type": "code",
   "execution_count": 9,
   "id": "b0251223-7825-49ce-9135-0bdd7478a45a",
   "metadata": {},
   "outputs": [
    {
     "name": "stdout",
     "output_type": "stream",
     "text": [
      "+------+-----+\n",
      "|fruits|price|\n",
      "+------+-----+\n",
      "| apple| 1500|\n",
      "| peach| 2000|\n",
      "|banana| 1500|\n",
      "| mango| 2500|\n",
      "|mincho| 3000|\n",
      "+------+-----+\n",
      "\n"
     ]
    }
   ],
   "source": [
    "fruits.show()"
   ]
  },
  {
   "cell_type": "markdown",
   "id": "7a848d30-948c-401e-b08c-82c05182489f",
   "metadata": {},
   "source": [
    "### 스파크세션을 이용한 고급 데이터프레임 생성"
   ]
  },
  {
   "cell_type": "code",
   "execution_count": 2,
   "id": "dd01d108-ca06-4c76-a481-653f98f85117",
   "metadata": {},
   "outputs": [],
   "source": [
    "from pyspark.sql import SparkSession\n",
    "from pyspark.sql.types import StructType"
   ]
  },
  {
   "cell_type": "code",
   "execution_count": 11,
   "id": "0bb83f6d-cfee-45fc-a779-65c892f18b9b",
   "metadata": {},
   "outputs": [],
   "source": [
    "# 데이터프레임 스키마 정의 - employees\n",
    "spark = SparkSession.builder.appName('emp').getOrCreate()"
   ]
  },
  {
   "cell_type": "code",
   "execution_count": 12,
   "id": "93d88dcf-9489-48bb-ac34-3b1298fa2f83",
   "metadata": {},
   "outputs": [],
   "source": [
    "# 데이터프레임 생성전 스키마 정의\n",
    "# add(컬럼명, 데이터타입)\n",
    "emp_schema = StructType().add('empno', 'integer').add('fname', 'string')\\\n",
    ".add('lname', 'string').add('hdate', 'string').add('sal', 'integer')\\\n",
    ".add('deptid', 'integer')"
   ]
  },
  {
   "cell_type": "code",
   "execution_count": 13,
   "id": "e6f63c90-6aba-4f87-84c6-c238f1fb032a",
   "metadata": {},
   "outputs": [
    {
     "name": "stdout",
     "output_type": "stream",
     "text": [
      "+-----+-----+-----+----------+-----+------+\n",
      "|empno|fname|lname|     hdate|  sal|deptid|\n",
      "+-----+-----+-----+----------+-----+------+\n",
      "|  123|steve| king|2003-06-17|35000|  null|\n",
      "|  456| john|  seo|2005-12-15|20000|    50|\n",
      "|  789|david| null|2004-03-01|22000|    90|\n",
      "+-----+-----+-----+----------+-----+------+\n",
      "\n"
     ]
    }
   ],
   "source": [
    "# 지정한 스키마를 이용해서 데이터프레임 생성\n",
    "# 데이터프레임의 각 행은 set 객체로 정의\n",
    "# 스키마는 schema 속성으로 지정\n",
    "emp = [(123,'steve','king','2003-06-17',35000,None),\n",
    "   (456,'john','seo','2005-12-15',20000,50),\n",
    "   (789,'david',None,'2004-03-01',22000,90)]\n",
    "df = spark.createDataFrame(emp, schema=emp_schema)\n",
    "df.show()"
   ]
  },
  {
   "cell_type": "code",
   "execution_count": 14,
   "id": "75de815b-c4a5-431e-a990-297f0130af93",
   "metadata": {},
   "outputs": [
    {
     "name": "stdout",
     "output_type": "stream",
     "text": [
      "root\n",
      " |-- empno: integer (nullable = true)\n",
      " |-- fname: string (nullable = true)\n",
      " |-- lname: string (nullable = true)\n",
      " |-- hdate: string (nullable = true)\n",
      " |-- sal: integer (nullable = true)\n",
      " |-- deptid: integer (nullable = true)\n",
      "\n"
     ]
    }
   ],
   "source": [
    "# 데이터프레임 스키마 확인\n",
    "df.printSchema()"
   ]
  },
  {
   "cell_type": "markdown",
   "id": "d2531e6c-311a-41df-beb6-6bc78592ebf9",
   "metadata": {},
   "source": [
    "### csv 파일을 이용해서 데이터프레임 만들기\n",
    "+ read.csv(경로, 헤더여부, 스키마여부)"
   ]
  },
  {
   "cell_type": "code",
   "execution_count": 3,
   "id": "954e34f7-522b-42e4-8c93-ad967536b6bf",
   "metadata": {},
   "outputs": [
    {
     "name": "stdout",
     "output_type": "stream",
     "text": [
      "root\n",
      " |-- EMPLOYEE_ID: integer (nullable = true)\n",
      " |-- FIRST_NAME: string (nullable = true)\n",
      " |-- LAST_NAME: string (nullable = true)\n",
      " |-- EMAIL: string (nullable = true)\n",
      " |-- PHONE_NUMBER: string (nullable = true)\n",
      " |-- HIRE_DATE: string (nullable = true)\n",
      " |-- JOB_ID: string (nullable = true)\n",
      " |-- SALARY: double (nullable = true)\n",
      " |-- COMMISSION_PCT: double (nullable = true)\n",
      " |-- MANAGER_ID: integer (nullable = true)\n",
      " |-- DEPARTMENT_ID: integer (nullable = true)\n",
      "\n"
     ]
    }
   ],
   "source": [
    "emp = spark.read.csv('data/employees.csv',header=True, inferSchema=True)\n",
    "emp.printSchema()"
   ]
  },
  {
   "cell_type": "code",
   "execution_count": 4,
   "id": "f293a996-3785-49dc-96a8-00a3746dc6b0",
   "metadata": {},
   "outputs": [
    {
     "data": {
      "text/plain": [
       "107"
      ]
     },
     "execution_count": 4,
     "metadata": {},
     "output_type": "execute_result"
    }
   ],
   "source": [
    "emp.count()"
   ]
  },
  {
   "cell_type": "code",
   "execution_count": 5,
   "id": "104774db-17db-43c2-8979-f27975d9118a",
   "metadata": {},
   "outputs": [
    {
     "data": {
      "text/plain": [
       "['EMPLOYEE_ID',\n",
       " 'FIRST_NAME',\n",
       " 'LAST_NAME',\n",
       " 'EMAIL',\n",
       " 'PHONE_NUMBER',\n",
       " 'HIRE_DATE',\n",
       " 'JOB_ID',\n",
       " 'SALARY',\n",
       " 'COMMISSION_PCT',\n",
       " 'MANAGER_ID',\n",
       " 'DEPARTMENT_ID']"
      ]
     },
     "execution_count": 5,
     "metadata": {},
     "output_type": "execute_result"
    }
   ],
   "source": [
    "# 데이터프레임 컬럼목록 출력\n",
    "emp.columns"
   ]
  },
  {
   "cell_type": "code",
   "execution_count": 6,
   "id": "6996c775-8000-42cb-9f2a-ab62e59e8c0e",
   "metadata": {},
   "outputs": [
    {
     "name": "stdout",
     "output_type": "stream",
     "text": [
      "+-----------+----------+---------+--------+------------+----------+-------+-------+--------------+----------+-------------+\n",
      "|EMPLOYEE_ID|FIRST_NAME|LAST_NAME|   EMAIL|PHONE_NUMBER| HIRE_DATE| JOB_ID| SALARY|COMMISSION_PCT|MANAGER_ID|DEPARTMENT_ID|\n",
      "+-----------+----------+---------+--------+------------+----------+-------+-------+--------------+----------+-------------+\n",
      "|        100|    Steven|     King|   SKING|515.123.4567|2003-06-17|AD_PRES|24000.0|          null|      null|           90|\n",
      "|        101|     Neena|  Kochhar|NKOCHHAR|515.123.4568|2005-09-21|  AD_VP|17000.0|          null|       100|           90|\n",
      "|        102|       Lex|  De Haan| LDEHAAN|515.123.4569|2001-01-13|  AD_VP|17000.0|          null|       100|           90|\n",
      "|        103| Alexander|   Hunold| AHUNOLD|590.423.4567|2006-01-03|IT_PROG| 9000.0|          null|       102|           60|\n",
      "|        104|     Bruce|    Ernst|  BERNST|590.423.4568|2007-05-21|IT_PROG| 6000.0|          null|       103|           60|\n",
      "+-----------+----------+---------+--------+------------+----------+-------+-------+--------------+----------+-------------+\n",
      "only showing top 5 rows\n",
      "\n"
     ]
    }
   ],
   "source": [
    "# 지정한 수만큼 행 출력\n",
    "emp.show(5)"
   ]
  },
  {
   "cell_type": "markdown",
   "id": "0c62f739-26c8-45f4-b883-42e5ecbd45ab",
   "metadata": {},
   "source": [
    "#### 데이터 요약\n",
    "* summary(통계항목)"
   ]
  },
  {
   "cell_type": "code",
   "execution_count": 7,
   "id": "6187eff5-711a-4727-9a7e-90a5b39f1a16",
   "metadata": {
    "collapsed": true,
    "jupyter": {
     "outputs_hidden": true
    }
   },
   "outputs": [
    {
     "name": "stdout",
     "output_type": "stream",
     "text": [
      "+-------+----------------+----------+---------+-------+------------------+----------+----------+------------------+-------------------+------------------+------------------+\n",
      "|summary|     EMPLOYEE_ID|FIRST_NAME|LAST_NAME|  EMAIL|      PHONE_NUMBER| HIRE_DATE|    JOB_ID|            SALARY|     COMMISSION_PCT|        MANAGER_ID|     DEPARTMENT_ID|\n",
      "+-------+----------------+----------+---------+-------+------------------+----------+----------+------------------+-------------------+------------------+------------------+\n",
      "|  count|             107|       107|      107|    107|               107|       107|       107|               107|                 35|               106|               106|\n",
      "|   mean|           153.0|      null|     null|   null|              null|      null|      null|6461.8317757009345|0.22285714285714286|124.76415094339623| 63.20754716981132|\n",
      "| stddev|31.0322412983658|      null|     null|   null|              null|      null|      null|3909.5797305524825|0.08518393346757594|20.315395000692018|20.910110100200708|\n",
      "|    min|             100|      Adam|     Abel| ABANDA|011.44.1343.329268|2001-01-13|AC_ACCOUNT|            2100.0|                0.1|               100|                10|\n",
      "|    25%|             126|      null|     null|   null|              null|      null|      null|            3100.0|               0.15|               108|                50|\n",
      "|    50%|             153|      null|     null|   null|              null|      null|      null|            6200.0|                0.2|               122|                50|\n",
      "|    75%|             180|      null|     null|   null|              null|      null|      null|            9000.0|                0.3|               145|                80|\n",
      "|    max|             206|   Winston|  Zlotkey|WTAYLOR|      650.509.4876|2008-04-21|    ST_MAN|           24000.0|                0.4|               205|               110|\n",
      "+-------+----------------+----------+---------+-------+------------------+----------+----------+------------------+-------------------+------------------+------------------+\n",
      "\n"
     ]
    }
   ],
   "source": [
    "emp.summary().show()"
   ]
  },
  {
   "cell_type": "code",
   "execution_count": 8,
   "id": "c1eca97c-1705-4e44-bc0e-bbe8bc1fc1f2",
   "metadata": {
    "collapsed": true,
    "jupyter": {
     "outputs_hidden": true
    }
   },
   "outputs": [
    {
     "name": "stdout",
     "output_type": "stream",
     "text": [
      "+-------+------------------+-------------------+\n",
      "|summary|            SALARY|     COMMISSION_PCT|\n",
      "+-------+------------------+-------------------+\n",
      "|  count|               107|                 35|\n",
      "|   mean|6461.8317757009345|0.22285714285714286|\n",
      "| stddev|3909.5797305524825|0.08518393346757594|\n",
      "|    min|            2100.0|                0.1|\n",
      "|    25%|            3100.0|               0.15|\n",
      "|    50%|            6200.0|                0.2|\n",
      "|    75%|            9000.0|                0.3|\n",
      "|    max|           24000.0|                0.4|\n",
      "+-------+------------------+-------------------+\n",
      "\n"
     ]
    }
   ],
   "source": [
    "emp.select('SALARY','COMMISSION_PCT').summary().show()"
   ]
  },
  {
   "cell_type": "code",
   "execution_count": 9,
   "id": "ec0b145f-3bbd-41ca-959d-69e6bf470025",
   "metadata": {
    "collapsed": true,
    "jupyter": {
     "outputs_hidden": true
    }
   },
   "outputs": [
    {
     "name": "stdout",
     "output_type": "stream",
     "text": [
      "+-------+------------------+-------------------+\n",
      "|summary|            SALARY|     COMMISSION_PCT|\n",
      "+-------+------------------+-------------------+\n",
      "|   mean|6461.8317757009345|0.22285714285714286|\n",
      "| stddev|3909.5797305524825|0.08518393346757594|\n",
      "|    min|            2100.0|                0.1|\n",
      "|    max|           24000.0|                0.4|\n",
      "+-------+------------------+-------------------+\n",
      "\n"
     ]
    }
   ],
   "source": [
    "emp.select('SALARY','COMMISSION_PCT')\\\n",
    "    .summary('mean','stddev','min','max').show()"
   ]
  },
  {
   "cell_type": "markdown",
   "id": "d4bc98ca-d652-4ccb-9e75-a9ca5b6bef26",
   "metadata": {},
   "source": [
    "### 데이터프레임 데이터 탐색\n",
    "+ select\n",
    "+ where\n",
    "+ orderBy\n",
    "+ groupBy"
   ]
  },
  {
   "cell_type": "code",
   "execution_count": 10,
   "id": "76a534b8-8941-4cd2-b211-54a12518063a",
   "metadata": {
    "collapsed": true,
    "jupyter": {
     "outputs_hidden": true
    }
   },
   "outputs": [
    {
     "name": "stdout",
     "output_type": "stream",
     "text": [
      "+----------+---------+\n",
      "|FIRST_NAME|LAST_NAME|\n",
      "+----------+---------+\n",
      "|    Steven|     King|\n",
      "|     Neena|  Kochhar|\n",
      "|       Lex|  De Haan|\n",
      "| Alexander|   Hunold|\n",
      "|     Bruce|    Ernst|\n",
      "+----------+---------+\n",
      "only showing top 5 rows\n",
      "\n"
     ]
    }
   ],
   "source": [
    "# 모든 사원의 이름 조회\n",
    "emp.select(['FIRST_NAME','LAST_NAME']).show(5)"
   ]
  },
  {
   "cell_type": "code",
   "execution_count": 11,
   "id": "dc9f4340-35a6-4af2-a482-9b7ca3cf90a7",
   "metadata": {},
   "outputs": [
    {
     "name": "stdout",
     "output_type": "stream",
     "text": [
      "+-----------+----------+---------+--------+------------+----------+-------+-------+--------------+----------+-------------+\n",
      "|EMPLOYEE_ID|FIRST_NAME|LAST_NAME|   EMAIL|PHONE_NUMBER| HIRE_DATE| JOB_ID| SALARY|COMMISSION_PCT|MANAGER_ID|DEPARTMENT_ID|\n",
      "+-----------+----------+---------+--------+------------+----------+-------+-------+--------------+----------+-------------+\n",
      "|        100|    Steven|     King|   SKING|515.123.4567|2003-06-17|AD_PRES|24000.0|          null|      null|           90|\n",
      "|        101|     Neena|  Kochhar|NKOCHHAR|515.123.4568|2005-09-21|  AD_VP|17000.0|          null|       100|           90|\n",
      "|        102|       Lex|  De Haan| LDEHAAN|515.123.4569|2001-01-13|  AD_VP|17000.0|          null|       100|           90|\n",
      "|        103| Alexander|   Hunold| AHUNOLD|590.423.4567|2006-01-03|IT_PROG| 9000.0|          null|       102|           60|\n",
      "|        108|     Nancy|Greenberg|NGREENBE|515.124.4569|2002-08-17| FI_MGR|12008.0|          null|       101|          100|\n",
      "+-----------+----------+---------+--------+------------+----------+-------+-------+--------------+----------+-------------+\n",
      "only showing top 5 rows\n",
      "\n"
     ]
    }
   ],
   "source": [
    "# 급여가 7000 이상인 사원 조회\n",
    "# 컬럼 지정 : 객체명[컬럼명]\n",
    "emp.where(emp['SALARY'] >= 7000).show(5)"
   ]
  },
  {
   "cell_type": "code",
   "execution_count": 22,
   "id": "ad0b799a-056d-49af-8b4a-abd155a6a0ff",
   "metadata": {},
   "outputs": [
    {
     "data": {
      "text/plain": [
       "47"
      ]
     },
     "execution_count": 22,
     "metadata": {},
     "output_type": "execute_result"
    }
   ],
   "source": [
    "# 급여가 7000 이상인 사원의 수 조회\n",
    "emp.filter(emp['SALARY'] >= 7000).count()"
   ]
  },
  {
   "cell_type": "code",
   "execution_count": 14,
   "id": "0ddbe875-8df0-4868-8bfa-8e89fe374896",
   "metadata": {},
   "outputs": [
    {
     "name": "stdout",
     "output_type": "stream",
     "text": [
      "+-----------+-----------+---------+--------+------------+----------+----------+------+--------------+----------+-------------+\n",
      "|EMPLOYEE_ID| FIRST_NAME|LAST_NAME|   EMAIL|PHONE_NUMBER| HIRE_DATE|    JOB_ID|SALARY|COMMISSION_PCT|MANAGER_ID|DEPARTMENT_ID|\n",
      "+-----------+-----------+---------+--------+------------+----------+----------+------+--------------+----------+-------------+\n",
      "|        104|      Bruce|    Ernst|  BERNST|590.423.4568|2007-05-21|   IT_PROG|6000.0|          null|       103|           60|\n",
      "|        106|      Valli|Pataballa|VPATABAL|590.423.4560|2006-02-05|   IT_PROG|4800.0|          null|       103|           60|\n",
      "|        107|      Diana|  Lorentz|DLORENTZ|590.423.5567|2007-02-07|   IT_PROG|4200.0|          null|       103|           60|\n",
      "|        112|Jose Manuel|    Urman| JMURMAN|515.124.4469|2006-03-07|FI_ACCOUNT|7800.0|          null|       108|          100|\n",
      "|        113|       Luis|     Popp|   LPOPP|515.124.4567|2007-12-07|FI_ACCOUNT|6900.0|          null|       108|          100|\n",
      "+-----------+-----------+---------+--------+------------+----------+----------+------+--------------+----------+-------------+\n",
      "only showing top 5 rows\n",
      "\n"
     ]
    }
   ],
   "source": [
    "# 2006-02-05부터 2006-11-15사이에 고용된 사원 조회\n",
    "emp.where((emp['HIRE_DATE'] >= '2006-02-05') &\n",
    "           (emp['HIRE_DATE'] >= '2006-02-05')).show(5)"
   ]
  },
  {
   "cell_type": "code",
   "execution_count": 15,
   "id": "d9b8089e-3bca-4451-a5c7-782e9bfe7047",
   "metadata": {},
   "outputs": [
    {
     "name": "stdout",
     "output_type": "stream",
     "text": [
      "+-------------+-----+\n",
      "|DEPARTMENT_ID|count|\n",
      "+-------------+-----+\n",
      "|         null|    1|\n",
      "|           20|    2|\n",
      "|           40|    1|\n",
      "|          100|    6|\n",
      "|           10|    1|\n",
      "+-------------+-----+\n",
      "only showing top 5 rows\n",
      "\n"
     ]
    }
   ],
   "source": [
    "# 부서번호별 사원수 조회\n",
    "emp.groupBy('DEPARTMENT_ID').count().show(5)"
   ]
  },
  {
   "cell_type": "code",
   "execution_count": 16,
   "id": "f417f2d8-c244-40b4-afbe-39b43fbc4fcc",
   "metadata": {
    "collapsed": true,
    "jupyter": {
     "outputs_hidden": true
    }
   },
   "outputs": [
    {
     "name": "stdout",
     "output_type": "stream",
     "text": [
      "+----------+-----+\n",
      "|    JOB_ID|count|\n",
      "+----------+-----+\n",
      "|FI_ACCOUNT|    5|\n",
      "|    MK_MAN|    1|\n",
      "|   IT_PROG|    5|\n",
      "|    FI_MGR|    1|\n",
      "|AC_ACCOUNT|    1|\n",
      "+----------+-----+\n",
      "only showing top 5 rows\n",
      "\n"
     ]
    }
   ],
   "source": [
    "# 직책별 사원수 조회\n",
    "emp.groupBy('JOB_ID').count().show(5)"
   ]
  },
  {
   "cell_type": "code",
   "execution_count": 17,
   "id": "f2cc60fc-b972-40d1-8f28-e1e12a213c8d",
   "metadata": {
    "collapsed": true,
    "jupyter": {
     "outputs_hidden": true
    }
   },
   "outputs": [
    {
     "name": "stdout",
     "output_type": "stream",
     "text": [
      "+-------------+-----+\n",
      "|DEPARTMENT_ID|count|\n",
      "+-------------+-----+\n",
      "|         null|    1|\n",
      "|           10|    1|\n",
      "|           20|    2|\n",
      "|           30|    6|\n",
      "|           40|    1|\n",
      "+-------------+-----+\n",
      "only showing top 5 rows\n",
      "\n"
     ]
    }
   ],
   "source": [
    "# 부서번호별 사원수 조회후 부서번호 순으로 정렬\n",
    "emp.groupBy('DEPARTMENT_ID').count()\\\n",
    "    .orderBy('DEPARTMENT_ID').show(5)"
   ]
  },
  {
   "cell_type": "code",
   "execution_count": 19,
   "id": "fe66d2fb-9aee-4a60-a2f7-2c405729e978",
   "metadata": {},
   "outputs": [
    {
     "name": "stdout",
     "output_type": "stream",
     "text": [
      "+----------+-----+\n",
      "|    JOB_ID|count|\n",
      "+----------+-----+\n",
      "|AC_ACCOUNT|    1|\n",
      "|    AC_MGR|    1|\n",
      "|   AD_ASST|    1|\n",
      "|   AD_PRES|    1|\n",
      "|     AD_VP|    2|\n",
      "+----------+-----+\n",
      "only showing top 5 rows\n",
      "\n"
     ]
    }
   ],
   "source": [
    "# 직책별 사원수 조회후 직책 순으로 정렬\n",
    "emp.groupBy('JOB_ID').count()\\\n",
    "    .orderBy('JOB_ID').show(5)"
   ]
  },
  {
   "cell_type": "code",
   "execution_count": 21,
   "id": "68fd6568-d412-4ae0-a2f1-ed735e1bbd52",
   "metadata": {},
   "outputs": [
    {
     "name": "stdout",
     "output_type": "stream",
     "text": [
      "+--------+-----+\n",
      "|  JOB_ID|count|\n",
      "+--------+-----+\n",
      "|  SA_REP|   30|\n",
      "|ST_CLERK|   20|\n",
      "|SH_CLERK|   20|\n",
      "|  ST_MAN|    5|\n",
      "|  SA_MAN|    5|\n",
      "+--------+-----+\n",
      "only showing top 5 rows\n",
      "\n"
     ]
    }
   ],
   "source": [
    "# 직책별 사원수 조회후 사원수 내림차순 정렬\n",
    "emp.groupBy('JOB_ID').count()\\\n",
    "    .orderBy('count', ascending=False).show(5)"
   ]
  },
  {
   "cell_type": "markdown",
   "id": "eeb9067c-76b7-4821-b53a-2dff336b65c5",
   "metadata": {},
   "source": [
    "#### 집계함수 사용\n",
    "+ agg(집계함수명)"
   ]
  },
  {
   "cell_type": "code",
   "execution_count": 23,
   "id": "80cd8f9c-4088-47ff-afd3-43673b299563",
   "metadata": {},
   "outputs": [],
   "source": [
    "import pyspark.sql.functions as F"
   ]
  },
  {
   "cell_type": "code",
   "execution_count": 27,
   "id": "de5a789b-54b6-414e-b31e-5747ec72f50b",
   "metadata": {},
   "outputs": [
    {
     "name": "stdout",
     "output_type": "stream",
     "text": [
      "+-------+-----------+\n",
      "| JOB_ID|avg(SALARY)|\n",
      "+-------+-----------+\n",
      "|AD_PRES|    24000.0|\n",
      "|  AD_VP|    17000.0|\n",
      "| MK_MAN|    13000.0|\n",
      "| SA_MAN|    12200.0|\n",
      "| AC_MGR|    12008.0|\n",
      "+-------+-----------+\n",
      "only showing top 5 rows\n",
      "\n"
     ]
    }
   ],
   "source": [
    "# 직책별 평균 급여를 조회해서 내림차순으로 정렬\n",
    "# 단, '평균급여' 컬럼의 이름에 함수명이 포함되어 출력\n",
    "emp.groupBy('JOB_ID').agg(F.avg('SALARY')).orderBy('avg(SALARY)', ascending=False).show(5)"
   ]
  },
  {
   "cell_type": "code",
   "execution_count": 28,
   "id": "de03c303-d7b4-439e-a7d8-04c110a773b0",
   "metadata": {},
   "outputs": [
    {
     "name": "stdout",
     "output_type": "stream",
     "text": [
      "+-------+--------+\n",
      "| JOB_ID|mean sal|\n",
      "+-------+--------+\n",
      "|AD_PRES| 24000.0|\n",
      "|  AD_VP| 17000.0|\n",
      "| MK_MAN| 13000.0|\n",
      "| SA_MAN| 12200.0|\n",
      "| AC_MGR| 12008.0|\n",
      "+-------+--------+\n",
      "only showing top 5 rows\n",
      "\n"
     ]
    }
   ],
   "source": [
    "# 직책별 평균 급여를 조회해서 내림차순으로 정렬 (별칭부여:alias)\n",
    "emp.groupBy('JOB_ID').agg(F.avg('SALARY').alias('mean sal')).orderBy('mean sal', ascending=False).show(5)"
   ]
  },
  {
   "cell_type": "code",
   "execution_count": 31,
   "id": "82d04f40-8631-4372-ac14-3bc04328daaf",
   "metadata": {},
   "outputs": [
    {
     "name": "stdout",
     "output_type": "stream",
     "text": [
      "+----------+\n",
      "|    JOB_ID|\n",
      "+----------+\n",
      "|FI_ACCOUNT|\n",
      "|    MK_MAN|\n",
      "|   IT_PROG|\n",
      "|    FI_MGR|\n",
      "|AC_ACCOUNT|\n",
      "+----------+\n",
      "only showing top 5 rows\n",
      "\n"
     ]
    }
   ],
   "source": [
    "# 사원들의 직책을 모두 출력하세요\n",
    "# 단, 중복없이 하나씩만 표시되도록 합니다 - distinct()\n",
    "emp.select('JOB_ID').distinct().show(5)"
   ]
  },
  {
   "cell_type": "code",
   "execution_count": 44,
   "id": "8dd65d5a-232c-4f69-9b73-d13462f5ab8e",
   "metadata": {},
   "outputs": [
    {
     "data": {
      "text/plain": [
       "19"
      ]
     },
     "execution_count": 44,
     "metadata": {},
     "output_type": "execute_result"
    }
   ],
   "source": [
    "# 모든 직책 수는? (중복제외하고 카운팅)\n",
    "emp.select('JOB_ID').distinct().count()"
   ]
  },
  {
   "cell_type": "code",
   "execution_count": 35,
   "id": "555e1eba-731a-4445-89c3-4558cdcf1f97",
   "metadata": {},
   "outputs": [
    {
     "name": "stdout",
     "output_type": "stream",
     "text": [
      "+------+\n",
      "|JOB_ID|\n",
      "+------+\n",
      "|    19|\n",
      "+------+\n",
      "\n"
     ]
    }
   ],
   "source": [
    "emp.select(F.countDistinct('JOB_ID').alias('JOB_ID')).show()"
   ]
  },
  {
   "cell_type": "code",
   "execution_count": 50,
   "id": "49141771-8bc2-43fb-888d-6dac2a6a181f",
   "metadata": {
    "collapsed": true,
    "jupyter": {
     "outputs_hidden": true
    }
   },
   "outputs": [
    {
     "name": "stdout",
     "output_type": "stream",
     "text": [
      "+----------+-------+-------+--------+\n",
      "|FIRST_NAME| JOB_ID| SALARY|105% sal|\n",
      "+----------+-------+-------+--------+\n",
      "|    Steven|AD_PRES|24000.0| 25200.0|\n",
      "|     Neena|  AD_VP|17000.0| 17850.0|\n",
      "|       Lex|  AD_VP|17000.0| 17850.0|\n",
      "| Alexander|IT_PROG| 9000.0|  9450.0|\n",
      "|     Bruce|IT_PROG| 6000.0|  6300.0|\n",
      "+----------+-------+-------+--------+\n",
      "only showing top 5 rows\n",
      "\n"
     ]
    }
   ],
   "source": [
    "# 사원의 이름, 직책, 급여 출력하세요\n",
    "# 단, 5% 인상한 급여도 같이 출력합니다\n",
    "emp.select('FIRST_NAME', 'JOB_ID', F.round(emp.SALARY).alias('SALARY'), (emp.SALARY * 1.05).alias('105% sal')).show(5)"
   ]
  },
  {
   "cell_type": "code",
   "execution_count": 52,
   "id": "fef7962d-c94a-4e6d-85cc-469a385dd7ee",
   "metadata": {
    "collapsed": true,
    "jupyter": {
     "outputs_hidden": true
    }
   },
   "outputs": [
    {
     "name": "stdout",
     "output_type": "stream",
     "text": [
      "+----------+-------+------+--------+\n",
      "|FIRST_NAME| JOB_ID|SALARY|105% sal|\n",
      "+----------+-------+------+--------+\n",
      "|    Steven|AD_PRES| 24000|   25200|\n",
      "|     Neena|  AD_VP| 17000|   17850|\n",
      "|       Lex|  AD_VP| 17000|   17850|\n",
      "| Alexander|IT_PROG|  9000|    9450|\n",
      "|     Bruce|IT_PROG|  6000|    6300|\n",
      "+----------+-------+------+--------+\n",
      "only showing top 5 rows\n",
      "\n"
     ]
    }
   ],
   "source": [
    "emp.select('FIRST_NAME', 'JOB_ID', emp.SALARY.cast('int'), (emp.SALARY * 1.05).cast('int').alias('105% sal')).show(5)"
   ]
  },
  {
   "cell_type": "code",
   "execution_count": 65,
   "id": "d1d7704c-eb33-4a2c-a53b-e41914c01ce9",
   "metadata": {},
   "outputs": [
    {
     "name": "stdout",
     "output_type": "stream",
     "text": [
      "+---------+------+\n",
      "|LAST_NAME|SALARY|\n",
      "+---------+------+\n",
      "|    Weiss|8000.0|\n",
      "|    Fripp|8200.0|\n",
      "| Kaufling|7900.0|\n",
      "|  Vollman|6500.0|\n",
      "|  Mourgos|5800.0|\n",
      "|      Fay|6000.0|\n",
      "+---------+------+\n",
      "\n"
     ]
    }
   ],
   "source": [
    "# 20번 또는 50번 부서에 근무하며, \n",
    "# 급여가 5000 ~ 12,000 사이인 사원들의 \n",
    "# LAST_NAME 및 급여를 조회하세요\n",
    "emp.where((emp.DEPARTMENT_ID == 20) | (emp.DEPARTMENT_ID == 50)) \\\n",
    "    .where((emp.SALARY >= 5000) & (emp.SALARY <= 12000))\\\n",
    "    .select('LAST_NAME', 'SALARY').show()"
   ]
  },
  {
   "cell_type": "code",
   "execution_count": 70,
   "id": "747f0a6f-fc27-4c72-9787-9695edeb4369",
   "metadata": {},
   "outputs": [
    {
     "name": "stdout",
     "output_type": "stream",
     "text": [
      "+---------+-------------+------+\n",
      "|LAST_NAME|DEPARTMENT_ID|SALARY|\n",
      "+---------+-------------+------+\n",
      "|    Weiss|           50|8000.0|\n",
      "|    Fripp|           50|8200.0|\n",
      "| Kaufling|           50|7900.0|\n",
      "|  Vollman|           50|6500.0|\n",
      "|  Mourgos|           50|5800.0|\n",
      "|      Fay|           20|6000.0|\n",
      "+---------+-------------+------+\n",
      "\n"
     ]
    }
   ],
   "source": [
    "emp.where(emp.DEPARTMENT_ID.isin(20, 50))\\\n",
    "    .where(emp.SALARY.between(5000, 12000))\\\n",
    "    .select('LAST_NAME', 'DEPARTMENT_ID', 'SALARY').show()"
   ]
  }
 ],
 "metadata": {
  "kernelspec": {
   "display_name": "Python 3 (ipykernel)",
   "language": "python",
   "name": "python3"
  },
  "language_info": {
   "codemirror_mode": {
    "name": "ipython",
    "version": 3
   },
   "file_extension": ".py",
   "mimetype": "text/x-python",
   "name": "python",
   "nbconvert_exporter": "python",
   "pygments_lexer": "ipython3",
   "version": "3.10.12"
  }
 },
 "nbformat": 4,
 "nbformat_minor": 5
}
