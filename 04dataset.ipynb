{
 "cells": [
  {
   "cell_type": "markdown",
   "id": "451b8e98-1f00-41a4-97e1-e859d4f36983",
   "metadata": {},
   "source": [
    "## Join\n",
    "+ 여러 테이블을 연결해서 데이터를 검색하는 것\n",
    "+ 테이블의 결합기준은 각 테이블에 존재하는 공통 속성임\n",
    "+ 결합 유형 : inner join, outer join, self join\n",
    "+ 데이터객체명.join(조인대상, 조인조건, 조인유형)"
   ]
  },
  {
   "cell_type": "code",
   "execution_count": 2,
   "id": "047573d4-27cc-4ba9-af85-d35ea4a8440b",
   "metadata": {},
   "outputs": [],
   "source": [
    "spark = SparkSession.builder.appName('emp').getOrCreate()"
   ]
  },
  {
   "cell_type": "code",
   "execution_count": 3,
   "id": "50a2ae5b-ab2a-4750-b182-d7e14c99c7a8",
   "metadata": {},
   "outputs": [],
   "source": [
    "emp = spark.read.csv('data/employees.csv',header=True, inferSchema=True)\n",
    "dept = spark.read.csv('data/departments.csv',header=True, inferSchema=True)"
   ]
  },
  {
   "cell_type": "markdown",
   "id": "fb35a3ff-ce23-4fdc-89f9-f6c99a032667",
   "metadata": {},
   "source": [
    "### 내부조인 : 공통 속성명이 다를 경우\n",
    "* select * from emp e inner join dept d   \n",
    "on e.DEPARTMENT_ID = d.DEPARTMENT_ID"
   ]
  },
  {
   "cell_type": "code",
   "execution_count": 3,
   "id": "03966529-59bc-4c47-adf4-788757075c27",
   "metadata": {},
   "outputs": [
    {
     "name": "stdout",
     "output_type": "stream",
     "text": [
      "+-----------+----------+---------+--------+------------+----------+-------+-------+--------------+----------+-------------+-------------+---------------+----------+-----------+\n",
      "|EMPLOYEE_ID|FIRST_NAME|LAST_NAME|   EMAIL|PHONE_NUMBER| HIRE_DATE| JOB_ID| SALARY|COMMISSION_PCT|MANAGER_ID|DEPARTMENT_ID|DEPARTMENT_ID|DEPARTMENT_NAME|MANAGER_ID|LOCATION_ID|\n",
      "+-----------+----------+---------+--------+------------+----------+-------+-------+--------------+----------+-------------+-------------+---------------+----------+-----------+\n",
      "|        100|    Steven|     King|   SKING|515.123.4567|2003-06-17|AD_PRES|24000.0|          null|      null|           90|           90|      Executive|       100|       1700|\n",
      "|        101|     Neena|  Kochhar|NKOCHHAR|515.123.4568|2005-09-21|  AD_VP|17000.0|          null|       100|           90|           90|      Executive|       100|       1700|\n",
      "|        102|       Lex|  De Haan| LDEHAAN|515.123.4569|2001-01-13|  AD_VP|17000.0|          null|       100|           90|           90|      Executive|       100|       1700|\n",
      "|        103| Alexander|   Hunold| AHUNOLD|590.423.4567|2006-01-03|IT_PROG| 9000.0|          null|       102|           60|           60|             IT|       103|       1400|\n",
      "|        104|     Bruce|    Ernst|  BERNST|590.423.4568|2007-05-21|IT_PROG| 6000.0|          null|       103|           60|           60|             IT|       103|       1400|\n",
      "+-----------+----------+---------+--------+------------+----------+-------+-------+--------------+----------+-------------+-------------+---------------+----------+-----------+\n",
      "only showing top 5 rows\n",
      "\n"
     ]
    }
   ],
   "source": [
    "join_cnd = emp.DEPARTMENT_ID == dept.DEPARTMENT_ID\n",
    "empdept = emp.join(dept, join_cnd, 'inner')\n",
    "empdept.show(5)"
   ]
  },
  {
   "cell_type": "markdown",
   "id": "ba811fa1-8b59-43bc-8e89-c00c688755e7",
   "metadata": {},
   "source": [
    "### 내부조인 : 공통 속성명이 같을 경우\n",
    "* select * from emp e inner join dept d   \n",
    "using (DEPARTMENT_ID)"
   ]
  },
  {
   "cell_type": "code",
   "execution_count": 4,
   "id": "f66e438d-83d3-4178-b197-594413aadb60",
   "metadata": {},
   "outputs": [
    {
     "name": "stdout",
     "output_type": "stream",
     "text": [
      "+-------------+-----------+----------+---------+--------+------------+----------+-------+-------+--------------+----------+---------------+----------+-----------+\n",
      "|DEPARTMENT_ID|EMPLOYEE_ID|FIRST_NAME|LAST_NAME|   EMAIL|PHONE_NUMBER| HIRE_DATE| JOB_ID| SALARY|COMMISSION_PCT|MANAGER_ID|DEPARTMENT_NAME|MANAGER_ID|LOCATION_ID|\n",
      "+-------------+-----------+----------+---------+--------+------------+----------+-------+-------+--------------+----------+---------------+----------+-----------+\n",
      "|           90|        100|    Steven|     King|   SKING|515.123.4567|2003-06-17|AD_PRES|24000.0|          null|      null|      Executive|       100|       1700|\n",
      "|           90|        101|     Neena|  Kochhar|NKOCHHAR|515.123.4568|2005-09-21|  AD_VP|17000.0|          null|       100|      Executive|       100|       1700|\n",
      "|           90|        102|       Lex|  De Haan| LDEHAAN|515.123.4569|2001-01-13|  AD_VP|17000.0|          null|       100|      Executive|       100|       1700|\n",
      "|           60|        103| Alexander|   Hunold| AHUNOLD|590.423.4567|2006-01-03|IT_PROG| 9000.0|          null|       102|             IT|       103|       1400|\n",
      "|           60|        104|     Bruce|    Ernst|  BERNST|590.423.4568|2007-05-21|IT_PROG| 6000.0|          null|       103|             IT|       103|       1400|\n",
      "+-------------+-----------+----------+---------+--------+------------+----------+-------+-------+--------------+----------+---------------+----------+-----------+\n",
      "only showing top 5 rows\n",
      "\n"
     ]
    }
   ],
   "source": [
    "empdept = emp.join(dept, 'DEPARTMENT_ID', 'inner')\n",
    "empdept.show(5)"
   ]
  },
  {
   "cell_type": "markdown",
   "id": "e4922ec9-b3a0-4667-81ff-41c84bd440a5",
   "metadata": {},
   "source": [
    "### 외부조인\n",
    "* full, left, right"
   ]
  },
  {
   "cell_type": "code",
   "execution_count": 4,
   "id": "9fd239b4-d9a4-4423-8b3c-b5b0ad5c7f9f",
   "metadata": {
    "collapsed": true,
    "jupyter": {
     "outputs_hidden": true
    }
   },
   "outputs": [
    {
     "name": "stdout",
     "output_type": "stream",
     "text": [
      "+-------------+-----------+-----------+-----------+--------+------------------+----------+----------+-------+--------------+----------+--------------------+----------+-----------+\n",
      "|DEPARTMENT_ID|EMPLOYEE_ID| FIRST_NAME|  LAST_NAME|   EMAIL|      PHONE_NUMBER| HIRE_DATE|    JOB_ID| SALARY|COMMISSION_PCT|MANAGER_ID|     DEPARTMENT_NAME|MANAGER_ID|LOCATION_ID|\n",
      "+-------------+-----------+-----------+-----------+--------+------------------+----------+----------+-------+--------------+----------+--------------------+----------+-----------+\n",
      "|         null|        178|  Kimberely|      Grant|  KGRANT|011.44.1644.429263|2007-05-24|    SA_REP| 7000.0|          0.15|       149|                null|      null|       null|\n",
      "|           10|        200|   Jennifer|     Whalen| JWHALEN|      515.123.4444|2003-09-17|   AD_ASST| 4400.0|          null|       101|      Administration|       200|       1700|\n",
      "|           20|        201|    Michael|  Hartstein|MHARTSTE|      515.123.5555|2004-02-17|    MK_MAN|13000.0|          null|       100|           Marketing|       201|       1800|\n",
      "|           20|        202|        Pat|        Fay|    PFAY|      603.123.6666|2005-08-17|    MK_REP| 6000.0|          null|       201|           Marketing|       201|       1800|\n",
      "|           30|        114|        Den|   Raphaely|DRAPHEAL|      515.127.4561|2002-12-07|    PU_MAN|11000.0|          null|       100|          Purchasing|       114|       1700|\n",
      "|           30|        115|  Alexander|       Khoo|   AKHOO|      515.127.4562|2003-05-18|  PU_CLERK| 3100.0|          null|       114|          Purchasing|       114|       1700|\n",
      "|           30|        116|     Shelli|      Baida|  SBAIDA|      515.127.4563|2005-12-24|  PU_CLERK| 2900.0|          null|       114|          Purchasing|       114|       1700|\n",
      "|           30|        117|      Sigal|     Tobias| STOBIAS|      515.127.4564|2005-07-24|  PU_CLERK| 2800.0|          null|       114|          Purchasing|       114|       1700|\n",
      "|           30|        118|        Guy|     Himuro| GHIMURO|      515.127.4565|2006-11-15|  PU_CLERK| 2600.0|          null|       114|          Purchasing|       114|       1700|\n",
      "|           30|        119|      Karen| Colmenares|KCOLMENA|      515.127.4566|2007-08-10|  PU_CLERK| 2500.0|          null|       114|          Purchasing|       114|       1700|\n",
      "|           40|        203|      Susan|     Mavris| SMAVRIS|      515.123.7777|2002-06-07|    HR_REP| 6500.0|          null|       101|     Human Resources|       203|       2400|\n",
      "|           50|        120|    Matthew|      Weiss|  MWEISS|      650.123.1234|2004-07-18|    ST_MAN| 8000.0|          null|       100|            Shipping|       121|       1500|\n",
      "|           50|        121|       Adam|      Fripp|  AFRIPP|      650.123.2234|2005-04-10|    ST_MAN| 8200.0|          null|       100|            Shipping|       121|       1500|\n",
      "|           50|        122|      Payam|   Kaufling|PKAUFLIN|      650.123.3234|2003-05-01|    ST_MAN| 7900.0|          null|       100|            Shipping|       121|       1500|\n",
      "|           50|        123|     Shanta|    Vollman|SVOLLMAN|      650.123.4234|2005-10-10|    ST_MAN| 6500.0|          null|       100|            Shipping|       121|       1500|\n",
      "|           50|        124|      Kevin|    Mourgos|KMOURGOS|      650.123.5234|2007-11-16|    ST_MAN| 5800.0|          null|       100|            Shipping|       121|       1500|\n",
      "|           50|        125|      Julia|      Nayer|  JNAYER|      650.124.1214|2005-07-16|  ST_CLERK| 3200.0|          null|       120|            Shipping|       121|       1500|\n",
      "|           50|        126|      Irene|Mikkilineni|IMIKKILI|      650.124.1224|2006-09-28|  ST_CLERK| 2700.0|          null|       120|            Shipping|       121|       1500|\n",
      "|           50|        127|      James|     Landry| JLANDRY|      650.124.1334|2007-01-14|  ST_CLERK| 2400.0|          null|       120|            Shipping|       121|       1500|\n",
      "|           50|        128|     Steven|     Markle| SMARKLE|      650.124.1434|2008-03-08|  ST_CLERK| 2200.0|          null|       120|            Shipping|       121|       1500|\n",
      "|           50|        129|      Laura|     Bissot| LBISSOT|      650.124.5234|2005-08-20|  ST_CLERK| 3300.0|          null|       121|            Shipping|       121|       1500|\n",
      "|           50|        130|      Mozhe|   Atkinson|MATKINSO|      650.124.6234|2005-10-30|  ST_CLERK| 2800.0|          null|       121|            Shipping|       121|       1500|\n",
      "|           50|        131|      James|     Marlow| JAMRLOW|      650.124.7234|2005-02-16|  ST_CLERK| 2500.0|          null|       121|            Shipping|       121|       1500|\n",
      "|           50|        132|         TJ|      Olson| TJOLSON|      650.124.8234|2007-04-10|  ST_CLERK| 2100.0|          null|       121|            Shipping|       121|       1500|\n",
      "|           50|        133|      Jason|     Mallin| JMALLIN|      650.127.1934|2004-06-14|  ST_CLERK| 3300.0|          null|       122|            Shipping|       121|       1500|\n",
      "|           50|        134|    Michael|     Rogers| MROGERS|      650.127.1834|2006-08-26|  ST_CLERK| 2900.0|          null|       122|            Shipping|       121|       1500|\n",
      "|           50|        135|         Ki|        Gee|    KGEE|      650.127.1734|2007-12-12|  ST_CLERK| 2400.0|          null|       122|            Shipping|       121|       1500|\n",
      "|           50|        136|      Hazel| Philtanker|HPHILTAN|      650.127.1634|2008-02-06|  ST_CLERK| 2200.0|          null|       122|            Shipping|       121|       1500|\n",
      "|           50|        137|     Renske|     Ladwig| RLADWIG|      650.121.1234|2003-07-14|  ST_CLERK| 3600.0|          null|       123|            Shipping|       121|       1500|\n",
      "|           50|        138|    Stephen|     Stiles| SSTILES|      650.121.2034|2005-10-26|  ST_CLERK| 3200.0|          null|       123|            Shipping|       121|       1500|\n",
      "|           50|        139|       John|        Seo|    JSEO|      650.121.2019|2006-02-12|  ST_CLERK| 2700.0|          null|       123|            Shipping|       121|       1500|\n",
      "|           50|        140|     Joshua|      Patel|  JPATEL|      650.121.1834|2006-04-06|  ST_CLERK| 2500.0|          null|       123|            Shipping|       121|       1500|\n",
      "|           50|        141|     Trenna|       Rajs|   TRAJS|      650.121.8009|2003-10-17|  ST_CLERK| 3500.0|          null|       124|            Shipping|       121|       1500|\n",
      "|           50|        142|     Curtis|     Davies| CDAVIES|      650.121.2994|2005-01-29|  ST_CLERK| 3100.0|          null|       124|            Shipping|       121|       1500|\n",
      "|           50|        143|    Randall|      Matos|  RMATOS|      650.121.2874|2006-03-15|  ST_CLERK| 2600.0|          null|       124|            Shipping|       121|       1500|\n",
      "|           50|        144|      Peter|     Vargas| PVARGAS|      650.121.2004|2006-07-09|  ST_CLERK| 2500.0|          null|       124|            Shipping|       121|       1500|\n",
      "|           50|        180|    Winston|     Taylor| WTAYLOR|      650.507.9876|2006-01-24|  SH_CLERK| 3200.0|          null|       120|            Shipping|       121|       1500|\n",
      "|           50|        181|       Jean|     Fleaur| JFLEAUR|      650.507.9877|2006-02-23|  SH_CLERK| 3100.0|          null|       120|            Shipping|       121|       1500|\n",
      "|           50|        182|     Martha|   Sullivan|MSULLIVA|      650.507.9878|2007-06-21|  SH_CLERK| 2500.0|          null|       120|            Shipping|       121|       1500|\n",
      "|           50|        183|     Girard|      Geoni|  GGEONI|      650.507.9879|2008-02-03|  SH_CLERK| 2800.0|          null|       120|            Shipping|       121|       1500|\n",
      "|           50|        184|    Nandita|   Sarchand|NSARCHAN|      650.509.1876|2004-01-27|  SH_CLERK| 4200.0|          null|       121|            Shipping|       121|       1500|\n",
      "|           50|        185|     Alexis|       Bull|   ABULL|      650.509.2876|2005-02-20|  SH_CLERK| 4100.0|          null|       121|            Shipping|       121|       1500|\n",
      "|           50|        186|      Julia|  Dellinger|JDELLING|      650.509.3876|2006-06-24|  SH_CLERK| 3400.0|          null|       121|            Shipping|       121|       1500|\n",
      "|           50|        187|    Anthony|     Cabrio| ACABRIO|      650.509.4876|2007-02-07|  SH_CLERK| 3000.0|          null|       121|            Shipping|       121|       1500|\n",
      "|           50|        188|      Kelly|      Chung|  KCHUNG|      650.505.1876|2005-06-14|  SH_CLERK| 3800.0|          null|       122|            Shipping|       121|       1500|\n",
      "|           50|        189|   Jennifer|      Dilly|  JDILLY|      650.505.2876|2005-08-13|  SH_CLERK| 3600.0|          null|       122|            Shipping|       121|       1500|\n",
      "|           50|        190|    Timothy|      Gates|  TGATES|      650.505.3876|2006-07-11|  SH_CLERK| 2900.0|          null|       122|            Shipping|       121|       1500|\n",
      "|           50|        191|    Randall|    Perkins|RPERKINS|      650.505.4876|2007-12-19|  SH_CLERK| 2500.0|          null|       122|            Shipping|       121|       1500|\n",
      "|           50|        192|      Sarah|       Bell|   SBELL|      650.501.1876|2004-02-04|  SH_CLERK| 4000.0|          null|       123|            Shipping|       121|       1500|\n",
      "|           50|        193|    Britney|    Everett|BEVERETT|      650.501.2876|2005-03-03|  SH_CLERK| 3900.0|          null|       123|            Shipping|       121|       1500|\n",
      "|           50|        194|     Samuel|     McCain| SMCCAIN|      650.501.3876|2006-07-01|  SH_CLERK| 3200.0|          null|       123|            Shipping|       121|       1500|\n",
      "|           50|        195|      Vance|      Jones|  VJONES|      650.501.4876|2007-03-17|  SH_CLERK| 2800.0|          null|       123|            Shipping|       121|       1500|\n",
      "|           50|        196|      Alana|      Walsh|  AWALSH|      650.507.9811|2006-04-24|  SH_CLERK| 3100.0|          null|       124|            Shipping|       121|       1500|\n",
      "|           50|        197|      Kevin|     Feeney| KFEENEY|      650.507.9822|2006-05-23|  SH_CLERK| 3000.0|          null|       124|            Shipping|       121|       1500|\n",
      "|           50|        198|     Donald|   OConnell|DOCONNEL|      650.507.9833|2007-06-21|  SH_CLERK| 2600.0|          null|       124|            Shipping|       121|       1500|\n",
      "|           50|        199|    Douglas|      Grant|  DGRANT|      650.507.9844|2008-01-13|  SH_CLERK| 2600.0|          null|       124|            Shipping|       121|       1500|\n",
      "|           60|        103|  Alexander|     Hunold| AHUNOLD|      590.423.4567|2006-01-03|   IT_PROG| 9000.0|          null|       102|                  IT|       103|       1400|\n",
      "|           60|        104|      Bruce|      Ernst|  BERNST|      590.423.4568|2007-05-21|   IT_PROG| 6000.0|          null|       103|                  IT|       103|       1400|\n",
      "|           60|        105|      David|     Austin| DAUSTIN|      590.423.4569|2005-06-25|   IT_PROG| 4800.0|          null|       103|                  IT|       103|       1400|\n",
      "|           60|        106|      Valli|  Pataballa|VPATABAL|      590.423.4560|2006-02-05|   IT_PROG| 4800.0|          null|       103|                  IT|       103|       1400|\n",
      "|           60|        107|      Diana|    Lorentz|DLORENTZ|      590.423.5567|2007-02-07|   IT_PROG| 4200.0|          null|       103|                  IT|       103|       1400|\n",
      "|           70|        204|    Hermann|       Baer|   HBAER|      515.123.8888|2002-06-07|    PR_REP|10000.0|          null|       101|    Public Relations|       204|       2700|\n",
      "|           80|        145|       John|    Russell| JRUSSEL|011.44.1344.429268|2004-10-01|    SA_MAN|14000.0|           0.4|       100|               Sales|       145|       2500|\n",
      "|           80|        146|      Karen|   Partners|KPARTNER|011.44.1344.467268|2005-01-05|    SA_MAN|13500.0|           0.3|       100|               Sales|       145|       2500|\n",
      "|           80|        147|    Alberto|  Errazuriz|AERRAZUR|011.44.1344.429278|2005-03-10|    SA_MAN|12000.0|           0.3|       100|               Sales|       145|       2500|\n",
      "|           80|        148|     Gerald|  Cambrault|GCAMBRAU|011.44.1344.619268|2007-10-15|    SA_MAN|11000.0|           0.3|       100|               Sales|       145|       2500|\n",
      "|           80|        149|      Eleni|    Zlotkey|EZLOTKEY|011.44.1344.429018|2008-01-29|    SA_MAN|10500.0|           0.2|       100|               Sales|       145|       2500|\n",
      "|           80|        150|      Peter|     Tucker| PTUCKER|011.44.1344.129268|2005-01-30|    SA_REP|10000.0|           0.3|       145|               Sales|       145|       2500|\n",
      "|           80|        151|      David|  Bernstein|DBERNSTE|011.44.1344.345268|2005-03-24|    SA_REP| 9500.0|          0.25|       145|               Sales|       145|       2500|\n",
      "|           80|        152|      Peter|       Hall|   PHALL|011.44.1344.478968|2005-08-20|    SA_REP| 9000.0|          0.25|       145|               Sales|       145|       2500|\n",
      "|           80|        153|Christopher|      Olsen|  COLSEN|011.44.1344.498718|2006-03-30|    SA_REP| 8000.0|           0.2|       145|               Sales|       145|       2500|\n",
      "|           80|        154|    Nanette|  Cambrault|NCAMBRAU|011.44.1344.987668|2006-12-09|    SA_REP| 7500.0|           0.2|       145|               Sales|       145|       2500|\n",
      "|           80|        155|     Oliver|    Tuvault|OTUVAULT|011.44.1344.486508|2007-11-23|    SA_REP| 7000.0|          0.15|       145|               Sales|       145|       2500|\n",
      "|           80|        156|    Janette|       King|   JKING|011.44.1345.429268|2004-01-30|    SA_REP|10000.0|          0.35|       146|               Sales|       145|       2500|\n",
      "|           80|        157|    Patrick|      Sully|  PSULLY|011.44.1345.929268|2004-03-04|    SA_REP| 9500.0|          0.35|       146|               Sales|       145|       2500|\n",
      "|           80|        158|      Allan|     McEwen| AMCEWEN|011.44.1345.829268|2004-08-01|    SA_REP| 9000.0|          0.35|       146|               Sales|       145|       2500|\n",
      "|           80|        159|    Lindsey|      Smith|  LSMITH|011.44.1345.729268|2005-03-10|    SA_REP| 8000.0|           0.3|       146|               Sales|       145|       2500|\n",
      "|           80|        160|     Louise|      Doran|  LDORAN|011.44.1345.629268|2005-12-15|    SA_REP| 7500.0|           0.3|       146|               Sales|       145|       2500|\n",
      "|           80|        161|     Sarath|     Sewall| SSEWALL|011.44.1345.529268|2006-11-03|    SA_REP| 7000.0|          0.25|       146|               Sales|       145|       2500|\n",
      "|           80|        162|      Clara|    Vishney|CVISHNEY|011.44.1346.129268|2005-11-11|    SA_REP|10500.0|          0.25|       147|               Sales|       145|       2500|\n",
      "|           80|        163|   Danielle|     Greene| DGREENE|011.44.1346.229268|2007-03-19|    SA_REP| 9500.0|          0.15|       147|               Sales|       145|       2500|\n",
      "|           80|        164|     Mattea|    Marvins|MMARVINS|011.44.1346.329268|2008-01-24|    SA_REP| 7200.0|           0.1|       147|               Sales|       145|       2500|\n",
      "|           80|        165|      David|        Lee|    DLEE|011.44.1346.529268|2008-02-23|    SA_REP| 6800.0|           0.1|       147|               Sales|       145|       2500|\n",
      "|           80|        166|     Sundar|       Ande|   SANDE|011.44.1346.629268|2008-03-24|    SA_REP| 6400.0|           0.1|       147|               Sales|       145|       2500|\n",
      "|           80|        167|       Amit|      Banda|  ABANDA|011.44.1346.729268|2008-04-21|    SA_REP| 6200.0|           0.1|       147|               Sales|       145|       2500|\n",
      "|           80|        168|       Lisa|       Ozer|   LOZER|011.44.1343.929268|2005-03-11|    SA_REP|11500.0|          0.25|       148|               Sales|       145|       2500|\n",
      "|           80|        169|   Harrison|      Bloom|  HBLOOM|011.44.1343.829268|2006-03-23|    SA_REP|10000.0|           0.2|       148|               Sales|       145|       2500|\n",
      "|           80|        170|     Tayler|        Fox|    TFOX|011.44.1343.729268|2006-01-24|    SA_REP| 9600.0|           0.2|       148|               Sales|       145|       2500|\n",
      "|           80|        171|    William|      Smith|  WSMITH|011.44.1343.629268|2007-02-23|    SA_REP| 7400.0|          0.15|       148|               Sales|       145|       2500|\n",
      "|           80|        172|  Elizabeth|      Bates|  EBATES|011.44.1343.529268|2007-03-24|    SA_REP| 7300.0|          0.15|       148|               Sales|       145|       2500|\n",
      "|           80|        173|    Sundita|      Kumar|  SKUMAR|011.44.1343.329268|2008-04-21|    SA_REP| 6100.0|           0.1|       148|               Sales|       145|       2500|\n",
      "|           80|        174|      Ellen|       Abel|   EABEL|011.44.1644.429267|2004-05-11|    SA_REP|11000.0|           0.3|       149|               Sales|       145|       2500|\n",
      "|           80|        175|     Alyssa|     Hutton| AHUTTON|011.44.1644.429266|2005-03-19|    SA_REP| 8800.0|          0.25|       149|               Sales|       145|       2500|\n",
      "|           80|        176|   Jonathon|     Taylor| JTAYLOR|011.44.1644.429265|2006-03-24|    SA_REP| 8600.0|           0.2|       149|               Sales|       145|       2500|\n",
      "|           80|        177|       Jack| Livingston|JLIVINGS|011.44.1644.429264|2006-04-23|    SA_REP| 8400.0|           0.2|       149|               Sales|       145|       2500|\n",
      "|           80|        179|    Charles|    Johnson|CJOHNSON|011.44.1644.429262|2008-01-04|    SA_REP| 6200.0|           0.1|       149|               Sales|       145|       2500|\n",
      "|           90|        100|     Steven|       King|   SKING|      515.123.4567|2003-06-17|   AD_PRES|24000.0|          null|      null|           Executive|       100|       1700|\n",
      "|           90|        101|      Neena|    Kochhar|NKOCHHAR|      515.123.4568|2005-09-21|     AD_VP|17000.0|          null|       100|           Executive|       100|       1700|\n",
      "|           90|        102|        Lex|    De Haan| LDEHAAN|      515.123.4569|2001-01-13|     AD_VP|17000.0|          null|       100|           Executive|       100|       1700|\n",
      "|          100|        108|      Nancy|  Greenberg|NGREENBE|      515.124.4569|2002-08-17|    FI_MGR|12008.0|          null|       101|             Finance|       108|       1700|\n",
      "|          100|        109|     Daniel|     Faviet| DFAVIET|      515.124.4169|2002-08-16|FI_ACCOUNT| 9000.0|          null|       108|             Finance|       108|       1700|\n",
      "|          100|        110|       John|       Chen|   JCHEN|      515.124.4269|2005-09-28|FI_ACCOUNT| 8200.0|          null|       108|             Finance|       108|       1700|\n",
      "|          100|        111|     Ismael|    Sciarra|ISCIARRA|      515.124.4369|2005-09-30|FI_ACCOUNT| 7700.0|          null|       108|             Finance|       108|       1700|\n",
      "|          100|        112|Jose Manuel|      Urman| JMURMAN|      515.124.4469|2006-03-07|FI_ACCOUNT| 7800.0|          null|       108|             Finance|       108|       1700|\n",
      "|          100|        113|       Luis|       Popp|   LPOPP|      515.124.4567|2007-12-07|FI_ACCOUNT| 6900.0|          null|       108|             Finance|       108|       1700|\n",
      "|          110|        205|    Shelley|    Higgins|SHIGGINS|      515.123.8080|2002-06-07|    AC_MGR|12008.0|          null|       101|          Accounting|       205|       1700|\n",
      "|          110|        206|    William|      Gietz|  WGIETZ|      515.123.8181|2002-06-07|AC_ACCOUNT| 8300.0|          null|       205|          Accounting|       205|       1700|\n",
      "|          120|       null|       null|       null|    null|              null|      null|      null|   null|          null|      null|            Treasury|      null|       1700|\n",
      "|          130|       null|       null|       null|    null|              null|      null|      null|   null|          null|      null|       Corporate Tax|      null|       1700|\n",
      "|          140|       null|       null|       null|    null|              null|      null|      null|   null|          null|      null|  Control And Credit|      null|       1700|\n",
      "|          150|       null|       null|       null|    null|              null|      null|      null|   null|          null|      null|Shareholder Services|      null|       1700|\n",
      "|          160|       null|       null|       null|    null|              null|      null|      null|   null|          null|      null|            Benefits|      null|       1700|\n",
      "|          170|       null|       null|       null|    null|              null|      null|      null|   null|          null|      null|       Manufacturing|      null|       1700|\n",
      "|          180|       null|       null|       null|    null|              null|      null|      null|   null|          null|      null|        Construction|      null|       1700|\n",
      "|          190|       null|       null|       null|    null|              null|      null|      null|   null|          null|      null|         Contracting|      null|       1700|\n",
      "|          200|       null|       null|       null|    null|              null|      null|      null|   null|          null|      null|          Operations|      null|       1700|\n",
      "|          210|       null|       null|       null|    null|              null|      null|      null|   null|          null|      null|          IT Support|      null|       1700|\n",
      "|          220|       null|       null|       null|    null|              null|      null|      null|   null|          null|      null|                 NOC|      null|       1700|\n",
      "|          230|       null|       null|       null|    null|              null|      null|      null|   null|          null|      null|         IT Helpdesk|      null|       1700|\n",
      "|          240|       null|       null|       null|    null|              null|      null|      null|   null|          null|      null|    Government Sales|      null|       1700|\n",
      "+-------------+-----------+-----------+-----------+--------+------------------+----------+----------+-------+--------------+----------+--------------------+----------+-----------+\n",
      "only showing top 120 rows\n",
      "\n"
     ]
    }
   ],
   "source": [
    "empdept2 = emp.join(dept, 'DEPARTMENT_ID', 'outer')\n",
    "\n",
    "empdept2.show(120)"
   ]
  },
  {
   "cell_type": "code",
   "execution_count": null,
   "id": "2659a997-accf-4a7e-8b85-ba2bae998dbb",
   "metadata": {},
   "outputs": [],
   "source": [
    "# 사원이 한 명도 없는 부서를 조회\n",
    "# select * from emp e outer join dept d\n",
    "# using DEPARTMENT_ID where e.FIRST_NAME is null"
   ]
  },
  {
   "cell_type": "code",
   "execution_count": 5,
   "id": "37d9003e-19a3-40e8-9112-f9497a9b950c",
   "metadata": {},
   "outputs": [],
   "source": [
    "import pyspark.sql.functions as F"
   ]
  },
  {
   "cell_type": "code",
   "execution_count": 7,
   "id": "4d550e8e-f0ab-43d9-b9d1-8a8a9b287ed4",
   "metadata": {},
   "outputs": [
    {
     "name": "stdout",
     "output_type": "stream",
     "text": [
      "+-------------+\n",
      "|DEPARTMENT_ID|\n",
      "+-------------+\n",
      "|         null|\n",
      "|           10|\n",
      "|           20|\n",
      "|           30|\n",
      "|           40|\n",
      "|           50|\n",
      "|           60|\n",
      "|           70|\n",
      "|           80|\n",
      "|           90|\n",
      "|          100|\n",
      "|          110|\n",
      "+-------------+\n",
      "\n"
     ]
    }
   ],
   "source": [
    "# 사원테이블에 있는 부서 번호\n",
    "emp.select('DEPARTMENT_ID').distinct().orderBy('DEPARTMENT_ID').show()"
   ]
  },
  {
   "cell_type": "code",
   "execution_count": 8,
   "id": "7b5f9533-bb92-4300-a021-4a533bbea9cd",
   "metadata": {
    "collapsed": true,
    "jupyter": {
     "outputs_hidden": true
    }
   },
   "outputs": [
    {
     "name": "stdout",
     "output_type": "stream",
     "text": [
      "+-------------+\n",
      "|DEPARTMENT_ID|\n",
      "+-------------+\n",
      "|           10|\n",
      "|           20|\n",
      "|           30|\n",
      "|           40|\n",
      "|           50|\n",
      "|           60|\n",
      "|           70|\n",
      "|           80|\n",
      "|           90|\n",
      "|          100|\n",
      "|          110|\n",
      "|          120|\n",
      "|          130|\n",
      "|          140|\n",
      "|          150|\n",
      "|          160|\n",
      "|          170|\n",
      "|          180|\n",
      "|          190|\n",
      "|          200|\n",
      "+-------------+\n",
      "only showing top 20 rows\n",
      "\n"
     ]
    }
   ],
   "source": [
    "# 부서테이블에 있는 부서 번호\n",
    "dept.select('DEPARTMENT_ID').distinct().orderBy('DEPARTMENT_ID').show()"
   ]
  },
  {
   "cell_type": "code",
   "execution_count": 7,
   "id": "2e314090-3fc4-430d-9114-e401bb3d8482",
   "metadata": {
    "collapsed": true,
    "jupyter": {
     "outputs_hidden": true
    }
   },
   "outputs": [
    {
     "name": "stdout",
     "output_type": "stream",
     "text": [
      "+-------------+--------------------+\n",
      "|DEPARTMENT_ID|     DEPARTMENT_NAME|\n",
      "+-------------+--------------------+\n",
      "|          120|            Treasury|\n",
      "|          130|       Corporate Tax|\n",
      "|          140|  Control And Credit|\n",
      "|          150|Shareholder Services|\n",
      "|          160|            Benefits|\n",
      "|          170|       Manufacturing|\n",
      "|          180|        Construction|\n",
      "|          190|         Contracting|\n",
      "|          200|          Operations|\n",
      "|          210|          IT Support|\n",
      "|          220|                 NOC|\n",
      "|          230|         IT Helpdesk|\n",
      "|          240|    Government Sales|\n",
      "|          250|        Retail Sales|\n",
      "|          260|          Recruiting|\n",
      "|          270|             Payroll|\n",
      "+-------------+--------------------+\n",
      "\n"
     ]
    }
   ],
   "source": [
    "empdept2.where(empdept2.FIRST_NAME.isNull())\\\n",
    "    .select('DEPARTMENT_ID','DEPARTMENT_NAME').show()"
   ]
  },
  {
   "cell_type": "code",
   "execution_count": 8,
   "id": "702e2418-7266-4630-9be4-c3b3f98b30d6",
   "metadata": {},
   "outputs": [
    {
     "name": "stdout",
     "output_type": "stream",
     "text": [
      "+----------+---------+\n",
      "|FIRST_NAME|LAST_NAME|\n",
      "+----------+---------+\n",
      "| Kimberely|    Grant|\n",
      "+----------+---------+\n",
      "\n"
     ]
    }
   ],
   "source": [
    "# 부서에 소속되지 않은 사원을 조회\n",
    "# select * from emp e outer join dept d\n",
    "# using DEPARTMENT_ID where DEPARTMENT_ID is null\n",
    "empdept2.where(empdept2.DEPARTMENT_ID.isNull())\\\n",
    "    .select('FIRST_NAME','LAST_NAME').show()"
   ]
  },
  {
   "cell_type": "markdown",
   "id": "f64d15f9-71dd-4ca7-a929-03fdb7c061d7",
   "metadata": {},
   "source": [
    "## 예제 데이터베이스 - 고객, 주문, 제품"
   ]
  },
  {
   "cell_type": "code",
   "execution_count": 18,
   "id": "b04e7e62-b168-4842-95eb-d2a7c055079c",
   "metadata": {},
   "outputs": [],
   "source": [
    "cust = spark.read.csv('data/Customers.csv',header=True, inferSchema=True)\n",
    "order = spark.read.csv('data/Orders.csv',header=True, inferSchema=True)\n",
    "products = spark.read.csv('data/Products.csv',header=True, inferSchema=True)"
   ]
  },
  {
   "cell_type": "code",
   "execution_count": 20,
   "id": "a9e5cdd2-ff43-457c-a41b-680cdd1d279a",
   "metadata": {},
   "outputs": [
    {
     "data": {
      "text/plain": [
       "['userid', 'name', 'age', 'grade', 'job', 'coins']"
      ]
     },
     "execution_count": 20,
     "metadata": {},
     "output_type": "execute_result"
    }
   ],
   "source": [
    "cust.columns"
   ]
  },
  {
   "cell_type": "code",
   "execution_count": 21,
   "id": "7085d62a-3a44-4e36-92a9-feb8ce31043e",
   "metadata": {},
   "outputs": [
    {
     "data": {
      "text/plain": [
       "['orderid', 'userid', 'prodid', 'amount', 'addr', 'orddate']"
      ]
     },
     "execution_count": 21,
     "metadata": {},
     "output_type": "execute_result"
    }
   ],
   "source": [
    "order.columns"
   ]
  },
  {
   "cell_type": "code",
   "execution_count": 22,
   "id": "572f3ff1-905a-4f8e-a1a0-16a13a754b1a",
   "metadata": {},
   "outputs": [
    {
     "data": {
      "text/plain": [
       "['prodid', 'prodname', 'stock', 'price', 'maker']"
      ]
     },
     "execution_count": 22,
     "metadata": {},
     "output_type": "execute_result"
    }
   ],
   "source": [
    "products.columns"
   ]
  },
  {
   "cell_type": "code",
   "execution_count": 15,
   "id": "9fce2dc8-8ea4-4563-8f2f-5062adc4a864",
   "metadata": {},
   "outputs": [
    {
     "name": "stdout",
     "output_type": "stream",
     "text": [
      "+------+------+----+------+------+-----+\n",
      "|userid|  name| age| grade|   job|coins|\n",
      "+------+------+----+------+------+-----+\n",
      "| apple|정소화|  20|  gold|  학생| 1000|\n",
      "|banana|김선우|  25|   vip|간호사| 2500|\n",
      "|carrot|고명석|  28|  gold|  교사| 4500|\n",
      "| melon|성원용|  35|  gold|회사원| 5000|\n",
      "|orange|김용욱|  22|silver|  학생|    0|\n",
      "| peach|오형준|null|silver|  의사|  300|\n",
      "|  pear|채광주|  31|silver|회사원|  500|\n",
      "+------+------+----+------+------+-----+\n",
      "\n"
     ]
    }
   ],
   "source": [
    "cust.show()"
   ]
  },
  {
   "cell_type": "code",
   "execution_count": 23,
   "id": "ac9d6834-4d14-40a2-a3f5-db80f4281a16",
   "metadata": {},
   "outputs": [
    {
     "name": "stdout",
     "output_type": "stream",
     "text": [
      "+-------+------+------+------+---------------+----------+\n",
      "|orderid|userid|prodid|amount|           addr|   orddate|\n",
      "+-------+------+------+------+---------------+----------+\n",
      "|    o01| apple|   p03|    10|  서울시 마포구|2013-01-01|\n",
      "|    o02| melon|   p01|     5|  인천시 계양구|2013-01-10|\n",
      "|    o03|banana|   p06|    45|  경기도 부천시|2013-01-11|\n",
      "|    o04|carrot|   p02|     8|  부산시 금정구|2013-02-01|\n",
      "|    o05| melon|   p06|    36|  경기도 용인시|2013-02-20|\n",
      "|    o06|banana|   p01|    19|충청북도 보은군|2013-03-02|\n",
      "|    o07| apple|   p03|    22|서울시 영등포구|2013-03-15|\n",
      "|    o08|  pear|   p02|    50|  강원도 춘천시|2013-04-10|\n",
      "|    o09|banana|   p04|    15|전라남도 목포시|2013-04-11|\n",
      "|    o10|carrot|   p03|    20|  경기도 안양시|2013-05-22|\n",
      "+-------+------+------+------+---------------+----------+\n",
      "\n"
     ]
    }
   ],
   "source": [
    "order.show()"
   ]
  },
  {
   "cell_type": "code",
   "execution_count": 24,
   "id": "1dd6a8c4-382a-4100-9515-946f46c46693",
   "metadata": {},
   "outputs": [
    {
     "name": "stdout",
     "output_type": "stream",
     "text": [
      "+------+----------+-----+-----+--------+\n",
      "|prodid|  prodname|stock|price|   maker|\n",
      "+------+----------+-----+-----+--------+\n",
      "|   p01|  그냥만두| 5000| 4500|대한식품|\n",
      "|   p02|  매운쫄면| 2500| 5500|민국푸드|\n",
      "|   p03|  쿵떡파이| 3600| 2600|한빛제과|\n",
      "|   p04|맛난초콜렛| 1250| 2500|한빛제과|\n",
      "|   p05|  얼큰라면| 2200| 1200|대한식품|\n",
      "|   p06|  통통우동| 1000| 1550|민국푸드|\n",
      "|   p07|달콤비스켓| 1650| 1500|한빛제과|\n",
      "+------+----------+-----+-----+--------+\n",
      "\n"
     ]
    }
   ],
   "source": [
    "products.show()"
   ]
  },
  {
   "cell_type": "code",
   "execution_count": 29,
   "id": "d725c252-cb15-4a83-b7e5-ec2f75579a6d",
   "metadata": {},
   "outputs": [
    {
     "name": "stdout",
     "output_type": "stream",
     "text": [
      "+------+-------+------+------+-------------+----------+--------+-----+-----+--------+\n",
      "|prodid|orderid|userid|amount|         addr|   orddate|prodname|stock|price|   maker|\n",
      "+------+-------+------+------+-------------+----------+--------+-----+-----+--------+\n",
      "|   p03|    o01| apple|    10|서울시 마포구|2013-01-01|쿵떡파이| 3600| 2600|한빛제과|\n",
      "|   p01|    o02| melon|     5|인천시 계양구|2013-01-10|그냥만두| 5000| 4500|대한식품|\n",
      "|   p06|    o03|banana|    45|경기도 부천시|2013-01-11|통통우동| 1000| 1550|민국푸드|\n",
      "|   p02|    o04|carrot|     8|부산시 금정구|2013-02-01|매운쫄면| 2500| 5500|민국푸드|\n",
      "|   p06|    o05| melon|    36|경기도 용인시|2013-02-20|통통우동| 1000| 1550|민국푸드|\n",
      "+------+-------+------+------+-------------+----------+--------+-----+-----+--------+\n",
      "only showing top 5 rows\n",
      "\n"
     ]
    }
   ],
   "source": [
    "# 당근carrot 고객이 주문한 상품의 가격은 무엇인지 조회하세요\n",
    "orderproducts = order.join(products, 'prodid', 'inner')\n",
    "orderproducts.show(5)"
   ]
  },
  {
   "cell_type": "code",
   "execution_count": 33,
   "id": "5af79fc7-6cc4-4a0b-9893-721710f69a53",
   "metadata": {},
   "outputs": [
    {
     "name": "stdout",
     "output_type": "stream",
     "text": [
      "+--------+-----+\n",
      "|prodname|price|\n",
      "+--------+-----+\n",
      "|매운쫄면| 5500|\n",
      "|쿵떡파이| 2600|\n",
      "+--------+-----+\n",
      "\n"
     ]
    }
   ],
   "source": [
    "orderproducts.where(orderproducts.userid == 'carrot')\\\n",
    "    .select('prodname','price').show()"
   ]
  },
  {
   "cell_type": "code",
   "execution_count": 32,
   "id": "7d700094-1202-44a7-98ea-2f08505a4547",
   "metadata": {},
   "outputs": [
    {
     "name": "stdout",
     "output_type": "stream",
     "text": [
      "+------+-------+------+------+---------------+----------+------+----+------+------+-----+\n",
      "|userid|orderid|prodid|amount|           addr|   orddate|  name| age| grade|   job|coins|\n",
      "+------+-------+------+------+---------------+----------+------+----+------+------+-----+\n",
      "| apple|    o01|   p03|    10|  서울시 마포구|2013-01-01|정소화|  20|  gold|  학생| 1000|\n",
      "| apple|    o07|   p03|    22|서울시 영등포구|2013-03-15|정소화|  20|  gold|  학생| 1000|\n",
      "|banana|    o03|   p06|    45|  경기도 부천시|2013-01-11|김선우|  25|   vip|간호사| 2500|\n",
      "|banana|    o06|   p01|    19|충청북도 보은군|2013-03-02|김선우|  25|   vip|간호사| 2500|\n",
      "|banana|    o09|   p04|    15|전라남도 목포시|2013-04-11|김선우|  25|   vip|간호사| 2500|\n",
      "|carrot|    o04|   p02|     8|  부산시 금정구|2013-02-01|고명석|  28|  gold|  교사| 4500|\n",
      "|carrot|    o10|   p03|    20|  경기도 안양시|2013-05-22|고명석|  28|  gold|  교사| 4500|\n",
      "| melon|    o02|   p01|     5|  인천시 계양구|2013-01-10|성원용|  35|  gold|회사원| 5000|\n",
      "| melon|    o05|   p06|    36|  경기도 용인시|2013-02-20|성원용|  35|  gold|회사원| 5000|\n",
      "|orange|   null|  null|  null|           null|      null|김용욱|  22|silver|  학생|    0|\n",
      "| peach|   null|  null|  null|           null|      null|오형준|null|silver|  의사|  300|\n",
      "|  pear|    o08|   p02|    50|  강원도 춘천시|2013-04-10|채광주|  31|silver|회사원|  500|\n",
      "+------+-------+------+------+---------------+----------+------+----+------+------+-----+\n",
      "\n"
     ]
    }
   ],
   "source": [
    "# 주문을 한번도 하지 않은 고객의 이름, 등급을 조회하세요\n",
    "ordercust = order.join(cust, 'userid', 'outer')\n",
    "ordercust.show(20)"
   ]
  },
  {
   "cell_type": "code",
   "execution_count": 34,
   "id": "bee5c0c8-a1aa-479a-8faa-731f4ca38dea",
   "metadata": {},
   "outputs": [
    {
     "name": "stdout",
     "output_type": "stream",
     "text": [
      "+------+------+------+\n",
      "|userid|  name| grade|\n",
      "+------+------+------+\n",
      "|orange|김용욱|silver|\n",
      "| peach|오형준|silver|\n",
      "+------+------+------+\n",
      "\n"
     ]
    }
   ],
   "source": [
    "ordercust.where(ordercust.orderid.isNull())\\\n",
    "    .select('userid','name', 'grade').show()"
   ]
  },
  {
   "cell_type": "code",
   "execution_count": 35,
   "id": "9e625428-9d58-4ea1-bbee-c45889224717",
   "metadata": {},
   "outputs": [
    {
     "name": "stdout",
     "output_type": "stream",
     "text": [
      "+------+-------+------+------+---------------+----------+----------+-----+-----+--------+\n",
      "|prodid|orderid|userid|amount|           addr|   orddate|  prodname|stock|price|   maker|\n",
      "+------+-------+------+------+---------------+----------+----------+-----+-----+--------+\n",
      "|   p01|    o02| melon|     5|  인천시 계양구|2013-01-10|  그냥만두| 5000| 4500|대한식품|\n",
      "|   p01|    o06|banana|    19|충청북도 보은군|2013-03-02|  그냥만두| 5000| 4500|대한식품|\n",
      "|   p02|    o04|carrot|     8|  부산시 금정구|2013-02-01|  매운쫄면| 2500| 5500|민국푸드|\n",
      "|   p02|    o08|  pear|    50|  강원도 춘천시|2013-04-10|  매운쫄면| 2500| 5500|민국푸드|\n",
      "|   p03|    o01| apple|    10|  서울시 마포구|2013-01-01|  쿵떡파이| 3600| 2600|한빛제과|\n",
      "|   p03|    o07| apple|    22|서울시 영등포구|2013-03-15|  쿵떡파이| 3600| 2600|한빛제과|\n",
      "|   p03|    o10|carrot|    20|  경기도 안양시|2013-05-22|  쿵떡파이| 3600| 2600|한빛제과|\n",
      "|   p04|    o09|banana|    15|전라남도 목포시|2013-04-11|맛난초콜렛| 1250| 2500|한빛제과|\n",
      "|   p05|   null|  null|  null|           null|      null|  얼큰라면| 2200| 1200|대한식품|\n",
      "|   p06|    o03|banana|    45|  경기도 부천시|2013-01-11|  통통우동| 1000| 1550|민국푸드|\n",
      "|   p06|    o05| melon|    36|  경기도 용인시|2013-02-20|  통통우동| 1000| 1550|민국푸드|\n",
      "|   p07|   null|  null|  null|           null|      null|달콤비스켓| 1650| 1500|한빛제과|\n",
      "+------+-------+------+------+---------------+----------+----------+-----+-----+--------+\n",
      "\n"
     ]
    }
   ],
   "source": [
    "# 주문이 한번도 되지 않은 제품이름, 제조업체를 조회하세요\n",
    "orderproducts2 = order.join(products, 'prodid', 'outer')\n",
    "orderproducts2.show(20)"
   ]
  },
  {
   "cell_type": "code",
   "execution_count": 37,
   "id": "6d71515e-c32f-4831-b050-aa0f1bd83477",
   "metadata": {},
   "outputs": [
    {
     "name": "stdout",
     "output_type": "stream",
     "text": [
      "+----------+--------+\n",
      "|  prodname|   maker|\n",
      "+----------+--------+\n",
      "|  얼큰라면|대한식품|\n",
      "|달콤비스켓|한빛제과|\n",
      "+----------+--------+\n",
      "\n"
     ]
    }
   ],
   "source": [
    "orderproducts2.where(orderproducts2.orderid.isNull())\\\n",
    "    .select('prodname', 'maker').show()"
   ]
  },
  {
   "cell_type": "code",
   "execution_count": 38,
   "id": "f00ecda5-3167-44fa-a6dd-31f02db995d3",
   "metadata": {},
   "outputs": [
    {
     "name": "stdout",
     "output_type": "stream",
     "text": [
      "+------+------+-------+------+-------------+----------+------+---+-----+------+-----+--------+-----+-----+--------+\n",
      "|prodid|userid|orderid|amount|         addr|   orddate|  name|age|grade|   job|coins|prodname|stock|price|   maker|\n",
      "+------+------+-------+------+-------------+----------+------+---+-----+------+-----+--------+-----+-----+--------+\n",
      "|   p03| apple|    o01|    10|서울시 마포구|2013-01-01|정소화| 20| gold|  학생| 1000|쿵떡파이| 3600| 2600|한빛제과|\n",
      "|   p01| melon|    o02|     5|인천시 계양구|2013-01-10|성원용| 35| gold|회사원| 5000|그냥만두| 5000| 4500|대한식품|\n",
      "|   p06|banana|    o03|    45|경기도 부천시|2013-01-11|김선우| 25|  vip|간호사| 2500|통통우동| 1000| 1550|민국푸드|\n",
      "|   p02|carrot|    o04|     8|부산시 금정구|2013-02-01|고명석| 28| gold|  교사| 4500|매운쫄면| 2500| 5500|민국푸드|\n",
      "|   p06| melon|    o05|    36|경기도 용인시|2013-02-20|성원용| 35| gold|회사원| 5000|통통우동| 1000| 1550|민국푸드|\n",
      "+------+------+-------+------+-------------+----------+------+---+-----+------+-----+--------+-----+-----+--------+\n",
      "only showing top 5 rows\n",
      "\n"
     ]
    }
   ],
   "source": [
    "# 테이블 3개 조인하기\n",
    "ordercustproducts = ordercust.join(products, 'prodid', 'inner')\n",
    "ordercustproducts.show(5)"
   ]
  }
 ],
 "metadata": {
  "kernelspec": {
   "display_name": "Python 3 (ipykernel)",
   "language": "python",
   "name": "python3"
  },
  "language_info": {
   "codemirror_mode": {
    "name": "ipython",
    "version": 3
   },
   "file_extension": ".py",
   "mimetype": "text/x-python",
   "name": "python",
   "nbconvert_exporter": "python",
   "pygments_lexer": "ipython3",
   "version": "3.10.12"
  }
 },
 "nbformat": 4,
 "nbformat_minor": 5
}
